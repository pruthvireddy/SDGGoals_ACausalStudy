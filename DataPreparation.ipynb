{
  "nbformat": 4,
  "nbformat_minor": 0,
  "metadata": {
    "colab": {
      "name": "DataPreparation.ipynb",
      "provenance": []
    },
    "kernelspec": {
      "name": "python3",
      "display_name": "Python 3"
    },
    "language_info": {
      "name": "python"
    }
  },
  "cells": [
    {
      "cell_type": "code",
      "execution_count": 127,
      "metadata": {
        "id": "hJp_ncVM2-Gc"
      },
      "outputs": [],
      "source": [
        "%%capture\n",
        "# Importing required libraries\n",
        "import pandas as pd\n",
        "import numpy as np\n",
        "\n",
        "#from pandasql import sqldf\n",
        "#Setting up a funtion to pass global settings with sqldf queries\n",
        "#pysqldf = lambda q: sqldf(q, globals())\n"
      ]
    },
    {
      "cell_type": "code",
      "source": [
        "def ColumnNameStd(df_name):\n",
        "  df_name.columns = df_name.columns.str.replace(' ', '_') # replacing spaces (' ') with  underscore.\n",
        "  df_name.columns = df_name.columns.str.replace('-', '_') # replacing hyphens ('-') with underscore\n",
        "  df_name.columns = df_name.columns.str.replace('[', '')\n",
        "  df_name.columns = df_name.columns.str.replace(']', '')\n",
        "  df_name.columns = df_name.columns.str.lower()  \n",
        "  return df_name"
      ],
      "metadata": {
        "id": "ps4_AD3oC6OZ"
      },
      "execution_count": 128,
      "outputs": []
    },
    {
      "cell_type": "code",
      "source": [
        "DevelopedCountries = ['australia', 'austria','germany', 'usa','united states of america', 'norway', 'japan', 'canada',\n",
        "                      'poland', 'croatia', 'hungary', 'greece', 'romania','slovakia','italy','belgium','spain','united kingdom','france','latvia']\n",
        "\n",
        "DevelopingCountries = ['brazil', 'mexico', 'argentina', 'peru', \n",
        "                       'india', 'bangladesh', 'nepal','myanmar'\n",
        "                       'oman', 'qatar', 'lebanon', 'turkey', 'jordan', \n",
        "                       'south africa', 'namibia', 'zimbabwe', 'morocco', 'ehiopia', 'eritrea', 'kenya'\n",
        "                       'malaysia', 'republic of korea', 'thailand', 'indonesia', 'philippines']"
      ],
      "metadata": {
        "id": "09w_ScPAS9dx"
      },
      "execution_count": 145,
      "outputs": []
    },
    {
      "cell_type": "markdown",
      "source": [
        "# World Economic Indicator Data"
      ],
      "metadata": {
        "id": "qC-1SDnZ9vE6"
      }
    },
    {
      "cell_type": "markdown",
      "source": [
        "## Metric 1"
      ],
      "metadata": {
        "id": "Iow0Q4tEp9Ap"
      }
    },
    {
      "cell_type": "code",
      "source": [
        "wld_gdp = pd.read_csv('https://raw.githubusercontent.com/pruthvireddy/SDGGoals_ACausalStudy/main/Data/Raw/WLD_GDP.csv')\n",
        "wld_gdp = ColumnNameStd(wld_gdp)"
      ],
      "metadata": {
        "colab": {
          "base_uri": "https://localhost:8080/"
        },
        "id": "kpPAzY0v3M0p",
        "outputId": "81730725-774a-421b-f287-d43db0c4023b"
      },
      "execution_count": 206,
      "outputs": [
        {
          "output_type": "stream",
          "name": "stderr",
          "text": [
            "/usr/local/lib/python3.7/dist-packages/ipykernel_launcher.py:4: FutureWarning: The default value of regex will change from True to False in a future version. In addition, single character regular expressions will *not* be treated as literal strings when regex=True.\n",
            "  after removing the cwd from sys.path.\n",
            "/usr/local/lib/python3.7/dist-packages/ipykernel_launcher.py:5: FutureWarning: The default value of regex will change from True to False in a future version. In addition, single character regular expressions will *not* be treated as literal strings when regex=True.\n",
            "  \"\"\"\n"
          ]
        }
      ]
    },
    {
      "cell_type": "code",
      "source": [
        "wld_gdp = wld_gdp[wld_gdp['series_name'].notna()]\n",
        "\n",
        "wld_gdp = wld_gdp.replace('..', np.nan)\n",
        "\n",
        "int_columns = ['2000_yr2000', '2001_yr2001', '2002_yr2002', '2003_yr2003',\n",
        "       '2004_yr2004', '2005_yr2005', '2013_yr2013', '2014_yr2014',\n",
        "       '2015_yr2015', '2016_yr2016', '2017_yr2017', '2018_yr2018',\n",
        "       '2019_yr2019', '2020_yr2020', '2021_yr2021']\n",
        "\n",
        "wld_gdp[int_columns] = wld_gdp[int_columns].astype(float)\n",
        "\n",
        "wld_gdp = pd.melt(wld_gdp, id_vars=['country_name', 'country_code', 'series_name', 'series_code'], var_name='year', value_name='value')\n",
        "\n",
        "wld_gdp['year'] = wld_gdp['year'].str.split('_', expand=True)[0]"
      ],
      "metadata": {
        "id": "lgyJ4JL-HAd0"
      },
      "execution_count": 207,
      "outputs": []
    },
    {
      "cell_type": "code",
      "source": [
        "conditions = [\n",
        "    (wld_gdp['series_name'] == 'GDP (constant 2015 US$)') ,\n",
        "    (wld_gdp['series_name'] == 'GDP (current US$)'),\n",
        "    (wld_gdp['series_name'] == 'GDP per capita (constant 2015 US$)') ,\n",
        "    (wld_gdp['series_name'] == 'GDP per capita, PPP (current international $)') ,\n",
        "    (wld_gdp['series_name'] == 'GDP per capita, PPP (constant 2017 international $)') ,\n",
        "    (wld_gdp['series_name'] == 'GDP per person employed (constant 2017 PPP $)') ,\n",
        "    (wld_gdp['series_name'] == 'GDP, PPP (current international $)'),\n",
        "    (wld_gdp['series_name'] == 'Manufacturing, value added (% of GDP)')]\n",
        "\n",
        "choices = ['GDP_15', 'GDP','GDP_PC','GDP_PC_PPP','GDP_PC_PPP_17','GDP_PEMP','GDP_PPP','MFG_VA']\n",
        "wld_gdp['series_name'] = np.select(conditions, choices, default=np.nan)\n",
        "wld_gdp = wld_gdp.drop('series_code', 1)"
      ],
      "metadata": {
        "colab": {
          "base_uri": "https://localhost:8080/"
        },
        "id": "h466seP3TQgS",
        "outputId": "fac68da6-f963-419b-9512-a224b970d64f"
      },
      "execution_count": 208,
      "outputs": [
        {
          "output_type": "stream",
          "name": "stderr",
          "text": [
            "/usr/local/lib/python3.7/dist-packages/ipykernel_launcher.py:13: FutureWarning: In a future version of pandas all arguments of DataFrame.drop except for the argument 'labels' will be keyword-only\n",
            "  del sys.path[0]\n"
          ]
        }
      ]
    },
    {
      "cell_type": "code",
      "source": [
        "wld_gdp = wld_gdp.pivot_table(index=['country_name', 'country_code','year'], values='value', columns='series_name') \\\n",
        "    .reset_index() \\\n",
        "    .rename_axis(None, axis=1)\n",
        "\n",
        "wld_gdp['metric_key'] = wld_gdp[\"country_name\"].str.lower() + '-' + wld_gdp[\"year\"].astype(str)"
      ],
      "metadata": {
        "id": "DaN8UC94PiVS"
      },
      "execution_count": 209,
      "outputs": []
    },
    {
      "cell_type": "code",
      "source": [
        "conditions = [\n",
        "    (wld_gdp['country_name'].str.lower().isin(DevelopedCountries)) ,\n",
        "    \n",
        "    (wld_gdp['country_name'].str.lower().isin(DevelopingCountries))\n",
        "    ]\n",
        "\n",
        "choices = ['Developed', 'Developing']\n",
        "wld_gdp['economic_category'] = np.select(conditions, choices, default= 'Others')\n",
        "\n",
        "wld_gdp['metric_key'] = wld_gdp[\"economic_category\"].str.lower() + '-' + wld_gdp[\"year\"].astype(str)"
      ],
      "metadata": {
        "id": "xyzC9oBgGYbH"
      },
      "execution_count": 210,
      "outputs": []
    },
    {
      "cell_type": "code",
      "source": [
        "wld_gdp"
      ],
      "metadata": {
        "id": "gfszXSXWGgKl",
        "outputId": "3288ac74-c6a0-4135-d9cd-768f3ca4c6c7",
        "colab": {
          "base_uri": "https://localhost:8080/",
          "height": 424
        }
      },
      "execution_count": 211,
      "outputs": [
        {
          "output_type": "execute_result",
          "data": {
            "text/plain": [
              "     country_name country_code  year           GDP        GDP_15       GDP_PC  \\\n",
              "0     Afghanistan          AFG  2002  4.055180e+09  7.228792e+09   319.847107   \n",
              "1     Afghanistan          AFG  2003  4.515559e+09  7.867259e+09   332.220010   \n",
              "2     Afghanistan          AFG  2004  5.226779e+09  7.978512e+09   322.668009   \n",
              "3     Afghanistan          AFG  2005  6.209138e+09  8.874476e+09   345.925814   \n",
              "4     Afghanistan          AFG  2013  2.014640e+10  1.836025e+10   568.964544   \n",
              "...           ...          ...   ...           ...           ...          ...   \n",
              "2876     Zimbabwe          ZWE  2018  1.811554e+10  2.207732e+10  1529.026374   \n",
              "2877     Zimbabwe          ZWE  2019  1.928429e+10  2.072084e+10  1414.829099   \n",
              "2878     Zimbabwe          ZWE  2020  1.805117e+10  1.942605e+10  1307.013630   \n",
              "2879     Zimbabwe          ZWE  2000  6.689958e+09  2.015994e+10  1696.753262   \n",
              "2880     Zimbabwe          ZWE  2001  6.777385e+09  2.045017e+10  1715.056207   \n",
              "\n",
              "       GDP_PC_PPP  GDP_PC_PPP_17     GDP_PEMP       GDP_PPP     MFG_VA  \\\n",
              "0      877.014268    1189.784668  5572.184800  1.982120e+10  18.822752   \n",
              "1      927.857548    1235.810063  5742.153718  2.197247e+10  16.923866   \n",
              "2      925.441429    1200.278013  5529.232361  2.288310e+10  17.554006   \n",
              "3     1023.051749    1286.793659  5900.214139  2.624565e+10  16.598212   \n",
              "4     2015.514775    2116.465258  9451.821169  6.503984e+10  11.499867   \n",
              "...           ...            ...          ...           ...        ...   \n",
              "2876  4017.221716    3923.030495  8464.795850  5.800391e+10   7.721094   \n",
              "2877  3783.547898    3630.033985  7806.484516  5.541185e+10  15.738234   \n",
              "2878  3537.351394    3353.411304  7309.497926  5.257540e+10  18.430002   \n",
              "2879  2272.599366    4353.368199  9624.277338  2.700185e+10  13.387982   \n",
              "2880  2347.499465    4400.328153  9668.103842  2.799136e+10  13.145372   \n",
              "\n",
              "           metric_key economic_category  \n",
              "0         others-2002            Others  \n",
              "1         others-2003            Others  \n",
              "2         others-2004            Others  \n",
              "3         others-2005            Others  \n",
              "4         others-2013            Others  \n",
              "...               ...               ...  \n",
              "2876  developing-2018        Developing  \n",
              "2877  developing-2019        Developing  \n",
              "2878  developing-2020        Developing  \n",
              "2879  developing-2000        Developing  \n",
              "2880  developing-2001        Developing  \n",
              "\n",
              "[2881 rows x 13 columns]"
            ],
            "text/html": [
              "\n",
              "  <div id=\"df-c322c68c-5c68-45ba-8305-98566364c985\">\n",
              "    <div class=\"colab-df-container\">\n",
              "      <div>\n",
              "<style scoped>\n",
              "    .dataframe tbody tr th:only-of-type {\n",
              "        vertical-align: middle;\n",
              "    }\n",
              "\n",
              "    .dataframe tbody tr th {\n",
              "        vertical-align: top;\n",
              "    }\n",
              "\n",
              "    .dataframe thead th {\n",
              "        text-align: right;\n",
              "    }\n",
              "</style>\n",
              "<table border=\"1\" class=\"dataframe\">\n",
              "  <thead>\n",
              "    <tr style=\"text-align: right;\">\n",
              "      <th></th>\n",
              "      <th>country_name</th>\n",
              "      <th>country_code</th>\n",
              "      <th>year</th>\n",
              "      <th>GDP</th>\n",
              "      <th>GDP_15</th>\n",
              "      <th>GDP_PC</th>\n",
              "      <th>GDP_PC_PPP</th>\n",
              "      <th>GDP_PC_PPP_17</th>\n",
              "      <th>GDP_PEMP</th>\n",
              "      <th>GDP_PPP</th>\n",
              "      <th>MFG_VA</th>\n",
              "      <th>metric_key</th>\n",
              "      <th>economic_category</th>\n",
              "    </tr>\n",
              "  </thead>\n",
              "  <tbody>\n",
              "    <tr>\n",
              "      <th>0</th>\n",
              "      <td>Afghanistan</td>\n",
              "      <td>AFG</td>\n",
              "      <td>2002</td>\n",
              "      <td>4.055180e+09</td>\n",
              "      <td>7.228792e+09</td>\n",
              "      <td>319.847107</td>\n",
              "      <td>877.014268</td>\n",
              "      <td>1189.784668</td>\n",
              "      <td>5572.184800</td>\n",
              "      <td>1.982120e+10</td>\n",
              "      <td>18.822752</td>\n",
              "      <td>others-2002</td>\n",
              "      <td>Others</td>\n",
              "    </tr>\n",
              "    <tr>\n",
              "      <th>1</th>\n",
              "      <td>Afghanistan</td>\n",
              "      <td>AFG</td>\n",
              "      <td>2003</td>\n",
              "      <td>4.515559e+09</td>\n",
              "      <td>7.867259e+09</td>\n",
              "      <td>332.220010</td>\n",
              "      <td>927.857548</td>\n",
              "      <td>1235.810063</td>\n",
              "      <td>5742.153718</td>\n",
              "      <td>2.197247e+10</td>\n",
              "      <td>16.923866</td>\n",
              "      <td>others-2003</td>\n",
              "      <td>Others</td>\n",
              "    </tr>\n",
              "    <tr>\n",
              "      <th>2</th>\n",
              "      <td>Afghanistan</td>\n",
              "      <td>AFG</td>\n",
              "      <td>2004</td>\n",
              "      <td>5.226779e+09</td>\n",
              "      <td>7.978512e+09</td>\n",
              "      <td>322.668009</td>\n",
              "      <td>925.441429</td>\n",
              "      <td>1200.278013</td>\n",
              "      <td>5529.232361</td>\n",
              "      <td>2.288310e+10</td>\n",
              "      <td>17.554006</td>\n",
              "      <td>others-2004</td>\n",
              "      <td>Others</td>\n",
              "    </tr>\n",
              "    <tr>\n",
              "      <th>3</th>\n",
              "      <td>Afghanistan</td>\n",
              "      <td>AFG</td>\n",
              "      <td>2005</td>\n",
              "      <td>6.209138e+09</td>\n",
              "      <td>8.874476e+09</td>\n",
              "      <td>345.925814</td>\n",
              "      <td>1023.051749</td>\n",
              "      <td>1286.793659</td>\n",
              "      <td>5900.214139</td>\n",
              "      <td>2.624565e+10</td>\n",
              "      <td>16.598212</td>\n",
              "      <td>others-2005</td>\n",
              "      <td>Others</td>\n",
              "    </tr>\n",
              "    <tr>\n",
              "      <th>4</th>\n",
              "      <td>Afghanistan</td>\n",
              "      <td>AFG</td>\n",
              "      <td>2013</td>\n",
              "      <td>2.014640e+10</td>\n",
              "      <td>1.836025e+10</td>\n",
              "      <td>568.964544</td>\n",
              "      <td>2015.514775</td>\n",
              "      <td>2116.465258</td>\n",
              "      <td>9451.821169</td>\n",
              "      <td>6.503984e+10</td>\n",
              "      <td>11.499867</td>\n",
              "      <td>others-2013</td>\n",
              "      <td>Others</td>\n",
              "    </tr>\n",
              "    <tr>\n",
              "      <th>...</th>\n",
              "      <td>...</td>\n",
              "      <td>...</td>\n",
              "      <td>...</td>\n",
              "      <td>...</td>\n",
              "      <td>...</td>\n",
              "      <td>...</td>\n",
              "      <td>...</td>\n",
              "      <td>...</td>\n",
              "      <td>...</td>\n",
              "      <td>...</td>\n",
              "      <td>...</td>\n",
              "      <td>...</td>\n",
              "      <td>...</td>\n",
              "    </tr>\n",
              "    <tr>\n",
              "      <th>2876</th>\n",
              "      <td>Zimbabwe</td>\n",
              "      <td>ZWE</td>\n",
              "      <td>2018</td>\n",
              "      <td>1.811554e+10</td>\n",
              "      <td>2.207732e+10</td>\n",
              "      <td>1529.026374</td>\n",
              "      <td>4017.221716</td>\n",
              "      <td>3923.030495</td>\n",
              "      <td>8464.795850</td>\n",
              "      <td>5.800391e+10</td>\n",
              "      <td>7.721094</td>\n",
              "      <td>developing-2018</td>\n",
              "      <td>Developing</td>\n",
              "    </tr>\n",
              "    <tr>\n",
              "      <th>2877</th>\n",
              "      <td>Zimbabwe</td>\n",
              "      <td>ZWE</td>\n",
              "      <td>2019</td>\n",
              "      <td>1.928429e+10</td>\n",
              "      <td>2.072084e+10</td>\n",
              "      <td>1414.829099</td>\n",
              "      <td>3783.547898</td>\n",
              "      <td>3630.033985</td>\n",
              "      <td>7806.484516</td>\n",
              "      <td>5.541185e+10</td>\n",
              "      <td>15.738234</td>\n",
              "      <td>developing-2019</td>\n",
              "      <td>Developing</td>\n",
              "    </tr>\n",
              "    <tr>\n",
              "      <th>2878</th>\n",
              "      <td>Zimbabwe</td>\n",
              "      <td>ZWE</td>\n",
              "      <td>2020</td>\n",
              "      <td>1.805117e+10</td>\n",
              "      <td>1.942605e+10</td>\n",
              "      <td>1307.013630</td>\n",
              "      <td>3537.351394</td>\n",
              "      <td>3353.411304</td>\n",
              "      <td>7309.497926</td>\n",
              "      <td>5.257540e+10</td>\n",
              "      <td>18.430002</td>\n",
              "      <td>developing-2020</td>\n",
              "      <td>Developing</td>\n",
              "    </tr>\n",
              "    <tr>\n",
              "      <th>2879</th>\n",
              "      <td>Zimbabwe</td>\n",
              "      <td>ZWE</td>\n",
              "      <td>2000</td>\n",
              "      <td>6.689958e+09</td>\n",
              "      <td>2.015994e+10</td>\n",
              "      <td>1696.753262</td>\n",
              "      <td>2272.599366</td>\n",
              "      <td>4353.368199</td>\n",
              "      <td>9624.277338</td>\n",
              "      <td>2.700185e+10</td>\n",
              "      <td>13.387982</td>\n",
              "      <td>developing-2000</td>\n",
              "      <td>Developing</td>\n",
              "    </tr>\n",
              "    <tr>\n",
              "      <th>2880</th>\n",
              "      <td>Zimbabwe</td>\n",
              "      <td>ZWE</td>\n",
              "      <td>2001</td>\n",
              "      <td>6.777385e+09</td>\n",
              "      <td>2.045017e+10</td>\n",
              "      <td>1715.056207</td>\n",
              "      <td>2347.499465</td>\n",
              "      <td>4400.328153</td>\n",
              "      <td>9668.103842</td>\n",
              "      <td>2.799136e+10</td>\n",
              "      <td>13.145372</td>\n",
              "      <td>developing-2001</td>\n",
              "      <td>Developing</td>\n",
              "    </tr>\n",
              "  </tbody>\n",
              "</table>\n",
              "<p>2881 rows × 13 columns</p>\n",
              "</div>\n",
              "      <button class=\"colab-df-convert\" onclick=\"convertToInteractive('df-c322c68c-5c68-45ba-8305-98566364c985')\"\n",
              "              title=\"Convert this dataframe to an interactive table.\"\n",
              "              style=\"display:none;\">\n",
              "        \n",
              "  <svg xmlns=\"http://www.w3.org/2000/svg\" height=\"24px\"viewBox=\"0 0 24 24\"\n",
              "       width=\"24px\">\n",
              "    <path d=\"M0 0h24v24H0V0z\" fill=\"none\"/>\n",
              "    <path d=\"M18.56 5.44l.94 2.06.94-2.06 2.06-.94-2.06-.94-.94-2.06-.94 2.06-2.06.94zm-11 1L8.5 8.5l.94-2.06 2.06-.94-2.06-.94L8.5 2.5l-.94 2.06-2.06.94zm10 10l.94 2.06.94-2.06 2.06-.94-2.06-.94-.94-2.06-.94 2.06-2.06.94z\"/><path d=\"M17.41 7.96l-1.37-1.37c-.4-.4-.92-.59-1.43-.59-.52 0-1.04.2-1.43.59L10.3 9.45l-7.72 7.72c-.78.78-.78 2.05 0 2.83L4 21.41c.39.39.9.59 1.41.59.51 0 1.02-.2 1.41-.59l7.78-7.78 2.81-2.81c.8-.78.8-2.07 0-2.86zM5.41 20L4 18.59l7.72-7.72 1.47 1.35L5.41 20z\"/>\n",
              "  </svg>\n",
              "      </button>\n",
              "      \n",
              "  <style>\n",
              "    .colab-df-container {\n",
              "      display:flex;\n",
              "      flex-wrap:wrap;\n",
              "      gap: 12px;\n",
              "    }\n",
              "\n",
              "    .colab-df-convert {\n",
              "      background-color: #E8F0FE;\n",
              "      border: none;\n",
              "      border-radius: 50%;\n",
              "      cursor: pointer;\n",
              "      display: none;\n",
              "      fill: #1967D2;\n",
              "      height: 32px;\n",
              "      padding: 0 0 0 0;\n",
              "      width: 32px;\n",
              "    }\n",
              "\n",
              "    .colab-df-convert:hover {\n",
              "      background-color: #E2EBFA;\n",
              "      box-shadow: 0px 1px 2px rgba(60, 64, 67, 0.3), 0px 1px 3px 1px rgba(60, 64, 67, 0.15);\n",
              "      fill: #174EA6;\n",
              "    }\n",
              "\n",
              "    [theme=dark] .colab-df-convert {\n",
              "      background-color: #3B4455;\n",
              "      fill: #D2E3FC;\n",
              "    }\n",
              "\n",
              "    [theme=dark] .colab-df-convert:hover {\n",
              "      background-color: #434B5C;\n",
              "      box-shadow: 0px 1px 3px 1px rgba(0, 0, 0, 0.15);\n",
              "      filter: drop-shadow(0px 1px 2px rgba(0, 0, 0, 0.3));\n",
              "      fill: #FFFFFF;\n",
              "    }\n",
              "  </style>\n",
              "\n",
              "      <script>\n",
              "        const buttonEl =\n",
              "          document.querySelector('#df-c322c68c-5c68-45ba-8305-98566364c985 button.colab-df-convert');\n",
              "        buttonEl.style.display =\n",
              "          google.colab.kernel.accessAllowed ? 'block' : 'none';\n",
              "\n",
              "        async function convertToInteractive(key) {\n",
              "          const element = document.querySelector('#df-c322c68c-5c68-45ba-8305-98566364c985');\n",
              "          const dataTable =\n",
              "            await google.colab.kernel.invokeFunction('convertToInteractive',\n",
              "                                                     [key], {});\n",
              "          if (!dataTable) return;\n",
              "\n",
              "          const docLinkHtml = 'Like what you see? Visit the ' +\n",
              "            '<a target=\"_blank\" href=https://colab.research.google.com/notebooks/data_table.ipynb>data table notebook</a>'\n",
              "            + ' to learn more about interactive tables.';\n",
              "          element.innerHTML = '';\n",
              "          dataTable['output_type'] = 'display_data';\n",
              "          await google.colab.output.renderOutput(dataTable, element);\n",
              "          const docLink = document.createElement('div');\n",
              "          docLink.innerHTML = docLinkHtml;\n",
              "          element.appendChild(docLink);\n",
              "        }\n",
              "      </script>\n",
              "    </div>\n",
              "  </div>\n",
              "  "
            ]
          },
          "metadata": {},
          "execution_count": 211
        }
      ]
    },
    {
      "cell_type": "code",
      "source": [
        "wld_gdp.columns"
      ],
      "metadata": {
        "id": "9dj13IByGlhN",
        "outputId": "e42696e3-2a96-4f91-b96b-cd5db5a0433b",
        "colab": {
          "base_uri": "https://localhost:8080/"
        }
      },
      "execution_count": 212,
      "outputs": [
        {
          "output_type": "execute_result",
          "data": {
            "text/plain": [
              "Index(['country_name', 'country_code', 'year', 'GDP', 'GDP_15', 'GDP_PC',\n",
              "       'GDP_PC_PPP', 'GDP_PC_PPP_17', 'GDP_PEMP', 'GDP_PPP', 'MFG_VA',\n",
              "       'metric_key', 'economic_category'],\n",
              "      dtype='object')"
            ]
          },
          "metadata": {},
          "execution_count": 212
        }
      ]
    },
    {
      "cell_type": "code",
      "source": [
        "wld_gdp = wld_gdp.groupby(['metric_key','year', 'economic_category'])['GDP', 'GDP_15', 'GDP_PC','GDP_PC_PPP', 'GDP_PC_PPP_17', 'GDP_PEMP', 'GDP_PPP', 'MFG_VA'].mean().round(2)\n",
        "wld_gdp = pd.DataFrame(wld_gdp).reset_index()"
      ],
      "metadata": {
        "outputId": "17ea9648-e552-442a-8de4-050e6d3e90dc",
        "colab": {
          "base_uri": "https://localhost:8080/"
        },
        "id": "AomW_i7wGYbH"
      },
      "execution_count": 213,
      "outputs": [
        {
          "output_type": "stream",
          "name": "stderr",
          "text": [
            "/usr/local/lib/python3.7/dist-packages/ipykernel_launcher.py:1: FutureWarning: Indexing with multiple keys (implicitly converted to a tuple of keys) will be deprecated, use a list instead.\n",
            "  \"\"\"Entry point for launching an IPython kernel.\n"
          ]
        }
      ]
    },
    {
      "cell_type": "markdown",
      "source": [
        "## Metric 2"
      ],
      "metadata": {
        "id": "kCce4zDOqAHT"
      }
    },
    {
      "cell_type": "code",
      "source": [
        "EcityAcc = pd.read_csv('https://raw.githubusercontent.com/pruthvireddy/SDGGoals_ACausalStudy/main/Data/Raw/ECITY_ACC_Panel.csv')\n",
        "EcityAcc = ColumnNameStd(EcityAcc)\n",
        "\n",
        "EcityAcc = EcityAcc[EcityAcc['series_name'].notna()]\n",
        "\n",
        "EcityAcc = EcityAcc.replace('..', np.nan)\n",
        "\n",
        "int_columns = ['2000_yr2000', '2001_yr2001', '2002_yr2002', '2003_yr2003',\n",
        "       '2004_yr2004', '2005_yr2005', '2013_yr2013', '2014_yr2014',\n",
        "       '2015_yr2015', '2016_yr2016', '2017_yr2017', '2018_yr2018',\n",
        "       '2019_yr2019', '2020_yr2020', '2021_yr2021']\n",
        "\n",
        "EcityAcc[int_columns] = EcityAcc[int_columns].astype(float)\n",
        "\n",
        "EcityAcc = pd.melt(EcityAcc, id_vars=['country_name', 'country_code', 'series_name', 'series_code'], var_name='year', value_name='value')\n",
        "\n",
        "EcityAcc['year'] = EcityAcc['year'].str.split('_', expand=True)[0]"
      ],
      "metadata": {
        "colab": {
          "base_uri": "https://localhost:8080/"
        },
        "id": "hQVmorS-qCEZ",
        "outputId": "53f2deb0-0d7f-4ade-e78c-6e35a59f08dd"
      },
      "execution_count": 196,
      "outputs": [
        {
          "output_type": "stream",
          "name": "stderr",
          "text": [
            "/usr/local/lib/python3.7/dist-packages/ipykernel_launcher.py:4: FutureWarning: The default value of regex will change from True to False in a future version. In addition, single character regular expressions will *not* be treated as literal strings when regex=True.\n",
            "  after removing the cwd from sys.path.\n",
            "/usr/local/lib/python3.7/dist-packages/ipykernel_launcher.py:5: FutureWarning: The default value of regex will change from True to False in a future version. In addition, single character regular expressions will *not* be treated as literal strings when regex=True.\n",
            "  \"\"\"\n"
          ]
        }
      ]
    },
    {
      "cell_type": "code",
      "source": [
        "conditions = [\n",
        "    (EcityAcc['series_name'] == 'Access to electricity (% of population)') ,\n",
        "    (EcityAcc['series_name'] == 'Access to electricity, rural (% of rural population)')\n",
        "    ]\n",
        "\n",
        "choices = ['ELC_POP', 'ELC_RUR_POP']\n",
        "EcityAcc['series_name'] = np.select(conditions, choices, default=np.nan)\n",
        "EcityAcc = EcityAcc.drop('series_code', 1)"
      ],
      "metadata": {
        "colab": {
          "base_uri": "https://localhost:8080/"
        },
        "outputId": "6d424fb0-c4da-4066-9ba2-88bf7e46850b",
        "id": "qLCTKgWAqCEa"
      },
      "execution_count": 198,
      "outputs": [
        {
          "output_type": "stream",
          "name": "stderr",
          "text": [
            "/usr/local/lib/python3.7/dist-packages/ipykernel_launcher.py:8: FutureWarning: In a future version of pandas all arguments of DataFrame.drop except for the argument 'labels' will be keyword-only\n",
            "  \n"
          ]
        }
      ]
    },
    {
      "cell_type": "code",
      "source": [
        "EcityAcc = EcityAcc.pivot_table(index=['country_name', 'country_code','year'], values='value', columns='series_name') \\\n",
        "    .reset_index() \\\n",
        "    .rename_axis(None, axis=1)"
      ],
      "metadata": {
        "id": "Smc3AUrCqCEb"
      },
      "execution_count": 200,
      "outputs": []
    },
    {
      "cell_type": "code",
      "source": [
        "conditions = [\n",
        "    (EcityAcc['country_name'].str.lower().isin(DevelopedCountries)) ,\n",
        "    \n",
        "    (EcityAcc['country_name'].str.lower().isin(DevelopingCountries))\n",
        "    ]\n",
        "\n",
        "choices = ['Developed', 'Developing']\n",
        "EcityAcc['economic_category'] = np.select(conditions, choices, default= 'Others')\n",
        "\n",
        "EcityAcc['metric_key'] = EcityAcc[\"economic_category\"].str.lower() + '-' + EcityAcc[\"year\"].astype(str)"
      ],
      "metadata": {
        "id": "5slgLQFVEOmn"
      },
      "execution_count": 202,
      "outputs": []
    },
    {
      "cell_type": "code",
      "source": [
        "EcityAcc = EcityAcc.groupby(['metric_key','year', 'economic_category'])['ELC_POP', 'ELC_RUR_POP'].mean()\n",
        "EcityAcc = pd.DataFrame(EcityAcc).reset_index()"
      ],
      "metadata": {
        "colab": {
          "base_uri": "https://localhost:8080/"
        },
        "id": "Vq2jWUQ8EoIQ",
        "outputId": "16d475f6-ac79-4b02-cb1f-a6342e858459"
      },
      "execution_count": 203,
      "outputs": [
        {
          "output_type": "stream",
          "name": "stderr",
          "text": [
            "/usr/local/lib/python3.7/dist-packages/ipykernel_launcher.py:1: FutureWarning: Indexing with multiple keys (implicitly converted to a tuple of keys) will be deprecated, use a list instead.\n",
            "  \"\"\"Entry point for launching an IPython kernel.\n"
          ]
        }
      ]
    },
    {
      "cell_type": "markdown",
      "source": [
        "# SDG Metrics"
      ],
      "metadata": {
        "id": "HGDVqrJ59pI8"
      }
    },
    {
      "cell_type": "code",
      "source": [
        "CO2GDP = pd.read_csv('https://raw.githubusercontent.com/pruthvireddy/SDGGoals_ACausalStudy/main/Data/Raw/ATM_CO2_GDP_table.csv')\n",
        "CO2GDP = ColumnNameStd(CO2GDP)\n",
        "CO2GDP = CO2GDP[['goal', 'target', 'indicator', 'geoareaname', 'timeperiod', 'value', 'units']]"
      ],
      "metadata": {
        "colab": {
          "base_uri": "https://localhost:8080/"
        },
        "id": "BkaVWqJPmSpC",
        "outputId": "80ea3af1-357f-4173-b306-16e69e1a94e2"
      },
      "execution_count": 171,
      "outputs": [
        {
          "output_type": "stream",
          "name": "stderr",
          "text": [
            "/usr/local/lib/python3.7/dist-packages/ipykernel_launcher.py:4: FutureWarning: The default value of regex will change from True to False in a future version. In addition, single character regular expressions will *not* be treated as literal strings when regex=True.\n",
            "  after removing the cwd from sys.path.\n",
            "/usr/local/lib/python3.7/dist-packages/ipykernel_launcher.py:5: FutureWarning: The default value of regex will change from True to False in a future version. In addition, single character regular expressions will *not* be treated as literal strings when regex=True.\n",
            "  \"\"\"\n"
          ]
        }
      ]
    },
    {
      "cell_type": "code",
      "source": [
        "conditions = [\n",
        "    (CO2GDP['geoareaname'].str.lower().isin(DevelopedCountries)) ,\n",
        "    \n",
        "    (CO2GDP['geoareaname'].str.lower().isin(DevelopingCountries))\n",
        "    ]\n",
        "\n",
        "choices = ['Developed', 'Developing']\n",
        "CO2GDP['economic_category'] = np.select(conditions, choices, default= 'Others')"
      ],
      "metadata": {
        "id": "A18qFwHV_h4_"
      },
      "execution_count": 172,
      "outputs": []
    },
    {
      "cell_type": "code",
      "source": [
        "CO2GDP['metric_key'] = CO2GDP[\"economic_category\"].str.lower() + '-' + CO2GDP[\"timeperiod\"].astype(str)\n",
        "CO2GDP = CO2GDP.groupby(['metric_key','timeperiod', 'economic_category'])['value'].mean()\n",
        "CO2GDP = pd.DataFrame(CO2GDP).reset_index()"
      ],
      "metadata": {
        "id": "bI8fuDFW_qpB"
      },
      "execution_count": 173,
      "outputs": []
    },
    {
      "cell_type": "code",
      "source": [
        "CO2GDP.columns = ['metric_key', 'year', 'economic_category', 'CO2GDP']"
      ],
      "metadata": {
        "id": "uCLo-KvxAZpK"
      },
      "execution_count": 175,
      "outputs": []
    },
    {
      "cell_type": "markdown",
      "source": [
        ""
      ],
      "metadata": {
        "id": "JulDnhxl_qmh"
      }
    },
    {
      "cell_type": "code",
      "source": [
        "AtmCO2 = pd.read_csv('https://raw.githubusercontent.com/pruthvireddy/SDGGoals_ACausalStudy/main/Data/Raw/ATM_CO2_MVA_table.csv')\n",
        "AtmCO2 = ColumnNameStd(AtmCO2)\n",
        "AtmCO2 = AtmCO2[['goal', 'target', 'indicator', 'geoareaname', 'timeperiod', 'value', 'units']]\n",
        "AtmCO2['metric_key'] = AtmCO2[\"geoareaname\"].str.lower() + '-' + AtmCO2[\"timeperiod\"].astype(str)"
      ],
      "metadata": {
        "colab": {
          "base_uri": "https://localhost:8080/"
        },
        "id": "_GW9bsi193eZ",
        "outputId": "bf56886a-0078-459a-ed32-f260ae583304"
      },
      "execution_count": 178,
      "outputs": [
        {
          "output_type": "stream",
          "name": "stderr",
          "text": [
            "/usr/local/lib/python3.7/dist-packages/ipykernel_launcher.py:4: FutureWarning: The default value of regex will change from True to False in a future version. In addition, single character regular expressions will *not* be treated as literal strings when regex=True.\n",
            "  after removing the cwd from sys.path.\n",
            "/usr/local/lib/python3.7/dist-packages/ipykernel_launcher.py:5: FutureWarning: The default value of regex will change from True to False in a future version. In addition, single character regular expressions will *not* be treated as literal strings when regex=True.\n",
            "  \"\"\"\n"
          ]
        }
      ]
    },
    {
      "cell_type": "code",
      "source": [
        "conditions = [\n",
        "    (AtmCO2['geoareaname'].str.lower().isin(DevelopedCountries)) ,\n",
        "    \n",
        "    (AtmCO2['geoareaname'].str.lower().isin(DevelopingCountries))\n",
        "    ]\n",
        "\n",
        "choices = ['Developed', 'Developing']\n",
        "AtmCO2['economic_category'] = np.select(conditions, choices, default= 'Others')"
      ],
      "metadata": {
        "id": "KJg56Zyw1pGw"
      },
      "execution_count": 179,
      "outputs": []
    },
    {
      "cell_type": "code",
      "source": [
        "AtmCO2['metric_key'] = AtmCO2[\"economic_category\"].str.lower() + '-' + AtmCO2[\"timeperiod\"].astype(str)\n",
        "AtmCO2 = AtmCO2.groupby(['metric_key','timeperiod', 'economic_category'])['value'].mean()\n",
        "AtmCO2 = pd.DataFrame(AtmCO2).reset_index()"
      ],
      "metadata": {
        "id": "fFDHwwA-_caN"
      },
      "execution_count": 180,
      "outputs": []
    },
    {
      "cell_type": "code",
      "source": [
        "AtmCO2.columns = ['metric_key', 'year', 'economic_category', 'AtmCO2']"
      ],
      "metadata": {
        "id": "vVckSsHwCwiW"
      },
      "execution_count": 181,
      "outputs": []
    },
    {
      "cell_type": "markdown",
      "source": [
        "# Final Join\n"
      ],
      "metadata": {
        "id": "fQ_YX-mWD9z9"
      }
    },
    {
      "cell_type": "code",
      "source": [
        "SDGMetrics = pd.merge(CO2GDP,AtmCO2, on = ['metric_key', 'year', 'economic_category'], how = 'inner')"
      ],
      "metadata": {
        "id": "zSbZ3z7DDSoQ"
      },
      "execution_count": 229,
      "outputs": []
    },
    {
      "cell_type": "code",
      "source": [
        "EconInd = pd.merge(wld_gdp,EcityAcc, on = ['metric_key', 'year', 'economic_category'], how = 'inner')"
      ],
      "metadata": {
        "id": "lXDgv8f7G0Ni"
      },
      "execution_count": 230,
      "outputs": []
    },
    {
      "cell_type": "code",
      "source": [
        "EconInd['year']=EconInd['year'].astype(int)\n",
        "SDGMetrics['year']=SDGMetrics['year'].astype(int)"
      ],
      "metadata": {
        "id": "272rue3wHkbk"
      },
      "execution_count": 231,
      "outputs": []
    },
    {
      "cell_type": "code",
      "source": [
        "GlobalData = pd.merge(EconInd,SDGMetrics, on = ['metric_key', 'year', 'economic_category'], how = 'right')"
      ],
      "metadata": {
        "id": "LyXmM7uzHIVA"
      },
      "execution_count": 232,
      "outputs": []
    },
    {
      "cell_type": "code",
      "source": [
        "print(len(CO2GDP))\n",
        "print(len(AtmCO2))\n",
        "print(len(wld_gdp))\n",
        "print(len(EcityAcc))\n"
      ],
      "metadata": {
        "id": "3dX91YpYD8hZ",
        "outputId": "5675d92d-9629-4592-e632-c9552df23e1d",
        "colab": {
          "base_uri": "https://localhost:8080/"
        }
      },
      "execution_count": 228,
      "outputs": [
        {
          "output_type": "stream",
          "name": "stdout",
          "text": [
            "60\n",
            "60\n",
            "42\n",
            "42\n"
          ]
        }
      ]
    },
    {
      "cell_type": "code",
      "source": [
        "GlobalData.to_csv('GlobalData.csv',index=False)"
      ],
      "metadata": {
        "id": "LUQhKVt3HAk1"
      },
      "execution_count": 234,
      "outputs": []
    },
    {
      "cell_type": "code",
      "source": [
        ""
      ],
      "metadata": {
        "id": "Sra7frfEIJrb"
      },
      "execution_count": null,
      "outputs": []
    }
  ]
}