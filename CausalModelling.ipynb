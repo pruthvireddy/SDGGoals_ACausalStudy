{
  "nbformat": 4,
  "nbformat_minor": 0,
  "metadata": {
    "colab": {
      "name": "CausalModelling.ipynb",
      "provenance": [],
      "collapsed_sections": []
    },
    "kernelspec": {
      "name": "python3",
      "display_name": "Python 3"
    },
    "language_info": {
      "name": "python"
    }
  },
  "cells": [
    {
      "cell_type": "code",
      "source": [
        "%%capture\n"
      ],
      "metadata": {
        "id": "Aofv9Y0EGOcv"
      },
      "execution_count": null,
      "outputs": []
    },
    {
      "cell_type": "code",
      "execution_count": 41,
      "metadata": {
        "id": "m1SDSMHclGbp"
      },
      "outputs": [],
      "source": [
        "%%capture\n",
        "# Importing required libraries\n",
        "import pandas as pd\n",
        "import numpy as np\n",
        "\n",
        "import statsmodels.formula.api as smf"
      ]
    },
    {
      "cell_type": "code",
      "source": [
        "SDGData = pd.read_csv('https://raw.githubusercontent.com/pruthvireddy/SDGGoals_ACausalStudy/main/Data/Processed/GlobalData.csv')\n",
        "SDGDataUn = pd.read_csv('https://raw.githubusercontent.com/pruthvireddy/SDGGoals_ACausalStudy/main/Data/Processed/ModelData.csv')"
      ],
      "metadata": {
        "id": "lu2Zh1zJ1WES"
      },
      "execution_count": 2,
      "outputs": []
    },
    {
      "cell_type": "code",
      "source": [
        "SDGData.head()"
      ],
      "metadata": {
        "colab": {
          "base_uri": "https://localhost:8080/",
          "height": 206
        },
        "id": "OfQ-Pt6T1te9",
        "outputId": "e623307f-9605-443f-9808-50ece3c3947d"
      },
      "execution_count": 46,
      "outputs": [
        {
          "output_type": "execute_result",
          "data": {
            "text/plain": [
              "       metric_key  year economic_category           GDP        GDP_15  \\\n",
              "0  developed-2000  2000         Developed  8.159867e+11  1.036680e+12   \n",
              "1  developed-2001  2001         Developed  7.833653e+11  1.054067e+12   \n",
              "2  developed-2002  2002         Developed  8.153283e+11  1.066910e+12   \n",
              "3  developed-2003  2003         Developed  9.523626e+11  1.083325e+12   \n",
              "4  developed-2004  2004         Developed  1.084243e+12  1.110886e+12   \n",
              "\n",
              "     GDP_PC  GDP_PC_PPP  GDP_PC_PPP_17  GDP_PEMP       GDP_PPP  MFG_VA  \\\n",
              "0  27748.42    21889.46       33294.94  76780.53  8.407390e+11   16.03   \n",
              "1  28201.18    22883.42       33940.95  78184.48  8.784286e+11   15.76   \n",
              "2  28634.53    23919.38       34549.04  79313.37  9.144412e+11   15.37   \n",
              "3  29056.41    24698.18       35153.29  80366.24  9.427193e+11   15.05   \n",
              "4  29864.99    26101.88       36219.06  82640.68  9.914834e+11   14.98   \n",
              "\n",
              "   ELC_POP  ELC_RUR_POP    CO2GDP    AtmCO2  \n",
              "0    100.0        100.0  0.280833  0.535944  \n",
              "1    100.0        100.0  0.278944  0.492278  \n",
              "2    100.0        100.0  0.271167  0.464611  \n",
              "3    100.0        100.0  0.270889  0.441833  \n",
              "4    100.0        100.0  0.259389  0.410222  "
            ],
            "text/html": [
              "\n",
              "  <div id=\"df-7bf613a5-2f07-491c-a4f4-9c48c4dc3fae\">\n",
              "    <div class=\"colab-df-container\">\n",
              "      <div>\n",
              "<style scoped>\n",
              "    .dataframe tbody tr th:only-of-type {\n",
              "        vertical-align: middle;\n",
              "    }\n",
              "\n",
              "    .dataframe tbody tr th {\n",
              "        vertical-align: top;\n",
              "    }\n",
              "\n",
              "    .dataframe thead th {\n",
              "        text-align: right;\n",
              "    }\n",
              "</style>\n",
              "<table border=\"1\" class=\"dataframe\">\n",
              "  <thead>\n",
              "    <tr style=\"text-align: right;\">\n",
              "      <th></th>\n",
              "      <th>metric_key</th>\n",
              "      <th>year</th>\n",
              "      <th>economic_category</th>\n",
              "      <th>GDP</th>\n",
              "      <th>GDP_15</th>\n",
              "      <th>GDP_PC</th>\n",
              "      <th>GDP_PC_PPP</th>\n",
              "      <th>GDP_PC_PPP_17</th>\n",
              "      <th>GDP_PEMP</th>\n",
              "      <th>GDP_PPP</th>\n",
              "      <th>MFG_VA</th>\n",
              "      <th>ELC_POP</th>\n",
              "      <th>ELC_RUR_POP</th>\n",
              "      <th>CO2GDP</th>\n",
              "      <th>AtmCO2</th>\n",
              "    </tr>\n",
              "  </thead>\n",
              "  <tbody>\n",
              "    <tr>\n",
              "      <th>0</th>\n",
              "      <td>developed-2000</td>\n",
              "      <td>2000</td>\n",
              "      <td>Developed</td>\n",
              "      <td>8.159867e+11</td>\n",
              "      <td>1.036680e+12</td>\n",
              "      <td>27748.42</td>\n",
              "      <td>21889.46</td>\n",
              "      <td>33294.94</td>\n",
              "      <td>76780.53</td>\n",
              "      <td>8.407390e+11</td>\n",
              "      <td>16.03</td>\n",
              "      <td>100.0</td>\n",
              "      <td>100.0</td>\n",
              "      <td>0.280833</td>\n",
              "      <td>0.535944</td>\n",
              "    </tr>\n",
              "    <tr>\n",
              "      <th>1</th>\n",
              "      <td>developed-2001</td>\n",
              "      <td>2001</td>\n",
              "      <td>Developed</td>\n",
              "      <td>7.833653e+11</td>\n",
              "      <td>1.054067e+12</td>\n",
              "      <td>28201.18</td>\n",
              "      <td>22883.42</td>\n",
              "      <td>33940.95</td>\n",
              "      <td>78184.48</td>\n",
              "      <td>8.784286e+11</td>\n",
              "      <td>15.76</td>\n",
              "      <td>100.0</td>\n",
              "      <td>100.0</td>\n",
              "      <td>0.278944</td>\n",
              "      <td>0.492278</td>\n",
              "    </tr>\n",
              "    <tr>\n",
              "      <th>2</th>\n",
              "      <td>developed-2002</td>\n",
              "      <td>2002</td>\n",
              "      <td>Developed</td>\n",
              "      <td>8.153283e+11</td>\n",
              "      <td>1.066910e+12</td>\n",
              "      <td>28634.53</td>\n",
              "      <td>23919.38</td>\n",
              "      <td>34549.04</td>\n",
              "      <td>79313.37</td>\n",
              "      <td>9.144412e+11</td>\n",
              "      <td>15.37</td>\n",
              "      <td>100.0</td>\n",
              "      <td>100.0</td>\n",
              "      <td>0.271167</td>\n",
              "      <td>0.464611</td>\n",
              "    </tr>\n",
              "    <tr>\n",
              "      <th>3</th>\n",
              "      <td>developed-2003</td>\n",
              "      <td>2003</td>\n",
              "      <td>Developed</td>\n",
              "      <td>9.523626e+11</td>\n",
              "      <td>1.083325e+12</td>\n",
              "      <td>29056.41</td>\n",
              "      <td>24698.18</td>\n",
              "      <td>35153.29</td>\n",
              "      <td>80366.24</td>\n",
              "      <td>9.427193e+11</td>\n",
              "      <td>15.05</td>\n",
              "      <td>100.0</td>\n",
              "      <td>100.0</td>\n",
              "      <td>0.270889</td>\n",
              "      <td>0.441833</td>\n",
              "    </tr>\n",
              "    <tr>\n",
              "      <th>4</th>\n",
              "      <td>developed-2004</td>\n",
              "      <td>2004</td>\n",
              "      <td>Developed</td>\n",
              "      <td>1.084243e+12</td>\n",
              "      <td>1.110886e+12</td>\n",
              "      <td>29864.99</td>\n",
              "      <td>26101.88</td>\n",
              "      <td>36219.06</td>\n",
              "      <td>82640.68</td>\n",
              "      <td>9.914834e+11</td>\n",
              "      <td>14.98</td>\n",
              "      <td>100.0</td>\n",
              "      <td>100.0</td>\n",
              "      <td>0.259389</td>\n",
              "      <td>0.410222</td>\n",
              "    </tr>\n",
              "  </tbody>\n",
              "</table>\n",
              "</div>\n",
              "      <button class=\"colab-df-convert\" onclick=\"convertToInteractive('df-7bf613a5-2f07-491c-a4f4-9c48c4dc3fae')\"\n",
              "              title=\"Convert this dataframe to an interactive table.\"\n",
              "              style=\"display:none;\">\n",
              "        \n",
              "  <svg xmlns=\"http://www.w3.org/2000/svg\" height=\"24px\"viewBox=\"0 0 24 24\"\n",
              "       width=\"24px\">\n",
              "    <path d=\"M0 0h24v24H0V0z\" fill=\"none\"/>\n",
              "    <path d=\"M18.56 5.44l.94 2.06.94-2.06 2.06-.94-2.06-.94-.94-2.06-.94 2.06-2.06.94zm-11 1L8.5 8.5l.94-2.06 2.06-.94-2.06-.94L8.5 2.5l-.94 2.06-2.06.94zm10 10l.94 2.06.94-2.06 2.06-.94-2.06-.94-.94-2.06-.94 2.06-2.06.94z\"/><path d=\"M17.41 7.96l-1.37-1.37c-.4-.4-.92-.59-1.43-.59-.52 0-1.04.2-1.43.59L10.3 9.45l-7.72 7.72c-.78.78-.78 2.05 0 2.83L4 21.41c.39.39.9.59 1.41.59.51 0 1.02-.2 1.41-.59l7.78-7.78 2.81-2.81c.8-.78.8-2.07 0-2.86zM5.41 20L4 18.59l7.72-7.72 1.47 1.35L5.41 20z\"/>\n",
              "  </svg>\n",
              "      </button>\n",
              "      \n",
              "  <style>\n",
              "    .colab-df-container {\n",
              "      display:flex;\n",
              "      flex-wrap:wrap;\n",
              "      gap: 12px;\n",
              "    }\n",
              "\n",
              "    .colab-df-convert {\n",
              "      background-color: #E8F0FE;\n",
              "      border: none;\n",
              "      border-radius: 50%;\n",
              "      cursor: pointer;\n",
              "      display: none;\n",
              "      fill: #1967D2;\n",
              "      height: 32px;\n",
              "      padding: 0 0 0 0;\n",
              "      width: 32px;\n",
              "    }\n",
              "\n",
              "    .colab-df-convert:hover {\n",
              "      background-color: #E2EBFA;\n",
              "      box-shadow: 0px 1px 2px rgba(60, 64, 67, 0.3), 0px 1px 3px 1px rgba(60, 64, 67, 0.15);\n",
              "      fill: #174EA6;\n",
              "    }\n",
              "\n",
              "    [theme=dark] .colab-df-convert {\n",
              "      background-color: #3B4455;\n",
              "      fill: #D2E3FC;\n",
              "    }\n",
              "\n",
              "    [theme=dark] .colab-df-convert:hover {\n",
              "      background-color: #434B5C;\n",
              "      box-shadow: 0px 1px 3px 1px rgba(0, 0, 0, 0.15);\n",
              "      filter: drop-shadow(0px 1px 2px rgba(0, 0, 0, 0.3));\n",
              "      fill: #FFFFFF;\n",
              "    }\n",
              "  </style>\n",
              "\n",
              "      <script>\n",
              "        const buttonEl =\n",
              "          document.querySelector('#df-7bf613a5-2f07-491c-a4f4-9c48c4dc3fae button.colab-df-convert');\n",
              "        buttonEl.style.display =\n",
              "          google.colab.kernel.accessAllowed ? 'block' : 'none';\n",
              "\n",
              "        async function convertToInteractive(key) {\n",
              "          const element = document.querySelector('#df-7bf613a5-2f07-491c-a4f4-9c48c4dc3fae');\n",
              "          const dataTable =\n",
              "            await google.colab.kernel.invokeFunction('convertToInteractive',\n",
              "                                                     [key], {});\n",
              "          if (!dataTable) return;\n",
              "\n",
              "          const docLinkHtml = 'Like what you see? Visit the ' +\n",
              "            '<a target=\"_blank\" href=https://colab.research.google.com/notebooks/data_table.ipynb>data table notebook</a>'\n",
              "            + ' to learn more about interactive tables.';\n",
              "          element.innerHTML = '';\n",
              "          dataTable['output_type'] = 'display_data';\n",
              "          await google.colab.output.renderOutput(dataTable, element);\n",
              "          const docLink = document.createElement('div');\n",
              "          docLink.innerHTML = docLinkHtml;\n",
              "          element.appendChild(docLink);\n",
              "        }\n",
              "      </script>\n",
              "    </div>\n",
              "  </div>\n",
              "  "
            ]
          },
          "metadata": {},
          "execution_count": 46
        }
      ]
    },
    {
      "cell_type": "code",
      "source": [
        "SDGDataUn.groupby('year')['AtmCO2','CO2GDP'].mean().plot();"
      ],
      "metadata": {
        "colab": {
          "base_uri": "https://localhost:8080/",
          "height": 314
        },
        "id": "Vx_CLzPF13zE",
        "outputId": "8401d6ab-43a9-48d0-8b33-99341557a10d"
      },
      "execution_count": 7,
      "outputs": [
        {
          "output_type": "stream",
          "name": "stderr",
          "text": [
            "/usr/local/lib/python3.7/dist-packages/ipykernel_launcher.py:1: FutureWarning: Indexing with multiple keys (implicitly converted to a tuple of keys) will be deprecated, use a list instead.\n",
            "  \"\"\"Entry point for launching an IPython kernel.\n"
          ]
        },
        {
          "output_type": "display_data",
          "data": {
            "text/plain": [
              "<Figure size 432x288 with 1 Axes>"
            ],
            "image/png": "[encoded data removed]"
          },
          "metadata": {
            "needs_background": "light"
          }
        }
      ]
    },
    {
      "cell_type": "code",
      "source": [
        "SDGDataUn.groupby('year')['AtmCO2','CO2GDP'].mean().plot();"
      ],
      "metadata": {
        "id": "mQuvka3LL5BF"
      },
      "execution_count": null,
      "outputs": []
    },
    {
      "cell_type": "markdown",
      "source": [
        "# Difference-in Difference on GDP_PC_PPP"
      ],
      "metadata": {
        "id": "BwOFYq236K3M"
      }
    },
    {
      "cell_type": "code",
      "source": [
        "GDPPCGP = SDGData[SDGData['economic_category'] != 'Others']\n",
        "GDPPCGP = GDPPCGP[['year','economic_category', 'GDP_PC_PPP']].set_index(['year','economic_category']).unstack('economic_category').dropna()\n",
        "GDPPCGP['paris_climate_accord'] = 0\n",
        "GDPPCGP['paris_climate_accord'] = GDPPCGP.paris_climate_accord.where(GDPPCGP.index>2015,1)"
      ],
      "metadata": {
        "id": "h8M4Uypv2V9G"
      },
      "execution_count": 23,
      "outputs": []
    },
    {
      "cell_type": "code",
      "source": [
        "group_mean_check = GDPPCGP.groupby('paris_climate_accord').mean()\n",
        "group_mean_check"
      ],
      "metadata": {
        "colab": {
          "base_uri": "https://localhost:8080/",
          "height": 175
        },
        "id": "DwCou_9J5Zc4",
        "outputId": "cad520a1-4c57-42c1-a243-b646522871b8"
      },
      "execution_count": 24,
      "outputs": [
        {
          "output_type": "execute_result",
          "data": {
            "text/plain": [
              "                        GDP_PC_PPP              \n",
              "economic_category        Developed    Developing\n",
              "paris_climate_accord                            \n",
              "0                     42132.297500  16719.262500\n",
              "1                     28723.466667  13329.887778"
            ],
            "text/html": [
              "\n",
              "  <div id=\"df-5d4199c6-da6c-4197-9c32-a091f4d25b41\">\n",
              "    <div class=\"colab-df-container\">\n",
              "      <div>\n",
              "<style scoped>\n",
              "    .dataframe tbody tr th:only-of-type {\n",
              "        vertical-align: middle;\n",
              "    }\n",
              "\n",
              "    .dataframe tbody tr th {\n",
              "        vertical-align: top;\n",
              "    }\n",
              "\n",
              "    .dataframe thead tr th {\n",
              "        text-align: left;\n",
              "    }\n",
              "\n",
              "    .dataframe thead tr:last-of-type th {\n",
              "        text-align: right;\n",
              "    }\n",
              "</style>\n",
              "<table border=\"1\" class=\"dataframe\">\n",
              "  <thead>\n",
              "    <tr>\n",
              "      <th></th>\n",
              "      <th colspan=\"2\" halign=\"left\">GDP_PC_PPP</th>\n",
              "    </tr>\n",
              "    <tr>\n",
              "      <th>economic_category</th>\n",
              "      <th>Developed</th>\n",
              "      <th>Developing</th>\n",
              "    </tr>\n",
              "    <tr>\n",
              "      <th>paris_climate_accord</th>\n",
              "      <th></th>\n",
              "      <th></th>\n",
              "    </tr>\n",
              "  </thead>\n",
              "  <tbody>\n",
              "    <tr>\n",
              "      <th>0</th>\n",
              "      <td>42132.297500</td>\n",
              "      <td>16719.262500</td>\n",
              "    </tr>\n",
              "    <tr>\n",
              "      <th>1</th>\n",
              "      <td>28723.466667</td>\n",
              "      <td>13329.887778</td>\n",
              "    </tr>\n",
              "  </tbody>\n",
              "</table>\n",
              "</div>\n",
              "      <button class=\"colab-df-convert\" onclick=\"convertToInteractive('df-5d4199c6-da6c-4197-9c32-a091f4d25b41')\"\n",
              "              title=\"Convert this dataframe to an interactive table.\"\n",
              "              style=\"display:none;\">\n",
              "        \n",
              "  <svg xmlns=\"http://www.w3.org/2000/svg\" height=\"24px\"viewBox=\"0 0 24 24\"\n",
              "       width=\"24px\">\n",
              "    <path d=\"M0 0h24v24H0V0z\" fill=\"none\"/>\n",
              "    <path d=\"M18.56 5.44l.94 2.06.94-2.06 2.06-.94-2.06-.94-.94-2.06-.94 2.06-2.06.94zm-11 1L8.5 8.5l.94-2.06 2.06-.94-2.06-.94L8.5 2.5l-.94 2.06-2.06.94zm10 10l.94 2.06.94-2.06 2.06-.94-2.06-.94-.94-2.06-.94 2.06-2.06.94z\"/><path d=\"M17.41 7.96l-1.37-1.37c-.4-.4-.92-.59-1.43-.59-.52 0-1.04.2-1.43.59L10.3 9.45l-7.72 7.72c-.78.78-.78 2.05 0 2.83L4 21.41c.39.39.9.59 1.41.59.51 0 1.02-.2 1.41-.59l7.78-7.78 2.81-2.81c.8-.78.8-2.07 0-2.86zM5.41 20L4 18.59l7.72-7.72 1.47 1.35L5.41 20z\"/>\n",
              "  </svg>\n",
              "      </button>\n",
              "      \n",
              "  <style>\n",
              "    .colab-df-container {\n",
              "      display:flex;\n",
              "      flex-wrap:wrap;\n",
              "      gap: 12px;\n",
              "    }\n",
              "\n",
              "    .colab-df-convert {\n",
              "      background-color: #E8F0FE;\n",
              "      border: none;\n",
              "      border-radius: 50%;\n",
              "      cursor: pointer;\n",
              "      display: none;\n",
              "      fill: #1967D2;\n",
              "      height: 32px;\n",
              "      padding: 0 0 0 0;\n",
              "      width: 32px;\n",
              "    }\n",
              "\n",
              "    .colab-df-convert:hover {\n",
              "      background-color: #E2EBFA;\n",
              "      box-shadow: 0px 1px 2px rgba(60, 64, 67, 0.3), 0px 1px 3px 1px rgba(60, 64, 67, 0.15);\n",
              "      fill: #174EA6;\n",
              "    }\n",
              "\n",
              "    [theme=dark] .colab-df-convert {\n",
              "      background-color: #3B4455;\n",
              "      fill: #D2E3FC;\n",
              "    }\n",
              "\n",
              "    [theme=dark] .colab-df-convert:hover {\n",
              "      background-color: #434B5C;\n",
              "      box-shadow: 0px 1px 3px 1px rgba(0, 0, 0, 0.15);\n",
              "      filter: drop-shadow(0px 1px 2px rgba(0, 0, 0, 0.3));\n",
              "      fill: #FFFFFF;\n",
              "    }\n",
              "  </style>\n",
              "\n",
              "      <script>\n",
              "        const buttonEl =\n",
              "          document.querySelector('#df-5d4199c6-da6c-4197-9c32-a091f4d25b41 button.colab-df-convert');\n",
              "        buttonEl.style.display =\n",
              "          google.colab.kernel.accessAllowed ? 'block' : 'none';\n",
              "\n",
              "        async function convertToInteractive(key) {\n",
              "          const element = document.querySelector('#df-5d4199c6-da6c-4197-9c32-a091f4d25b41');\n",
              "          const dataTable =\n",
              "            await google.colab.kernel.invokeFunction('convertToInteractive',\n",
              "                                                     [key], {});\n",
              "          if (!dataTable) return;\n",
              "\n",
              "          const docLinkHtml = 'Like what you see? Visit the ' +\n",
              "            '<a target=\"_blank\" href=https://colab.research.google.com/notebooks/data_table.ipynb>data table notebook</a>'\n",
              "            + ' to learn more about interactive tables.';\n",
              "          element.innerHTML = '';\n",
              "          dataTable['output_type'] = 'display_data';\n",
              "          await google.colab.output.renderOutput(dataTable, element);\n",
              "          const docLink = document.createElement('div');\n",
              "          docLink.innerHTML = docLinkHtml;\n",
              "          element.appendChild(docLink);\n",
              "        }\n",
              "      </script>\n",
              "    </div>\n",
              "  </div>\n",
              "  "
            ]
          },
          "metadata": {},
          "execution_count": 24
        }
      ]
    },
    {
      "cell_type": "code",
      "source": [
        "GDPPCMod = SDGData.loc[SDGData['economic_category'] != 'Others', ['year','economic_category', 'GDP_PC_PPP']].dropna()\n",
        "GDPPCMod['paris_climate_accord'] = 0\n",
        "GDPPCMod['paris_climate_accord'] = GDPPCMod.paris_climate_accord.where(GDPPCMod.year>2015,1)\n",
        "\n",
        "conditions = [\n",
        "    (GDPPCMod['economic_category'] == 'Developed')]\n",
        "\n",
        "choices = [0]\n",
        "GDPPCMod['economic_category'] = np.select(conditions, choices, default=1)"
      ],
      "metadata": {
        "id": "aLmcdyCg6e_2"
      },
      "execution_count": 33,
      "outputs": []
    },
    {
      "cell_type": "code",
      "source": [
        "model = 'GDP_PC_PPP ~ year + economic_category + paris_climate_accord + economic_category * paris_climate_accord'\n",
        "\n",
        "GDPPC_Model = smf.ols(formula=model, data=GDPPCMod)\n",
        "GDPPC_Mod_result = GDPPC_Model.fit()\n",
        "\n",
        "\n",
        "print(GDPPC_Mod_result.summary())"
      ],
      "metadata": {
        "colab": {
          "base_uri": "https://localhost:8080/"
        },
        "id": "9qx9EkRLF8j4",
        "outputId": "d0236c7a-4f36-429f-e247-3794ee2f4cdb"
      },
      "execution_count": 45,
      "outputs": [
        {
          "output_type": "stream",
          "name": "stdout",
          "text": [
            "                            OLS Regression Results                            \n",
            "==============================================================================\n",
            "Dep. Variable:             GDP_PC_PPP   R-squared:                       0.980\n",
            "Model:                            OLS   Adj. R-squared:                  0.976\n",
            "Method:                 Least Squares   F-statistic:                     259.0\n",
            "Date:                Mon, 09 May 2022   Prob (F-statistic):           1.53e-17\n",
            "Time:                        18:34:36   Log-Likelihood:                -228.06\n",
            "No. Observations:                  26   AIC:                             466.1\n",
            "Df Residuals:                      21   BIC:                             472.4\n",
            "Df Model:                           4                                         \n",
            "Covariance Type:            nonrobust                                         \n",
            "==========================================================================================================\n",
            "                                             coef    std err          t      P>|t|      [0.025      0.975]\n",
            "----------------------------------------------------------------------------------------------------------\n",
            "Intercept                              -1.581e+06   1.46e+05    -10.853      0.000   -1.88e+06   -1.28e+06\n",
            "year                                     804.7199     72.223     11.142      0.000     654.524     954.916\n",
            "economic_category                      -2.541e+04   1227.789    -20.698      0.000    -2.8e+04   -2.29e+04\n",
            "paris_climate_accord                   -4422.7924   1318.768     -3.354      0.003   -7165.320   -1680.265\n",
            "economic_category:paris_climate_accord  1.002e+04   1475.618      6.790      0.000    6950.740    1.31e+04\n",
            "==============================================================================\n",
            "Omnibus:                        2.245   Durbin-Watson:                   0.891\n",
            "Prob(Omnibus):                  0.325   Jarque-Bera (JB):                1.105\n",
            "Skew:                          -0.469   Prob(JB):                        0.575\n",
            "Kurtosis:                       3.374   Cond. No.                     8.60e+05\n",
            "==============================================================================\n",
            "\n",
            "Warnings:\n",
            "[1] Standard Errors assume that the covariance matrix of the errors is correctly specified.\n",
            "[2] The condition number is large, 8.6e+05. This might indicate that there are\n",
            "strong multicollinearity or other numerical problems.\n"
          ]
        }
      ]
    },
    {
      "cell_type": "markdown",
      "source": [
        "# Difference-in Difference on CO2GDP"
      ],
      "metadata": {
        "id": "Ie1--6nFG5W8"
      }
    },
    {
      "cell_type": "code",
      "source": [
        "CO2GDP_Mod = SDGData[SDGData['economic_category'] != 'Others']\n",
        "CO2GDP_Mod = CO2GDP_Mod[['year','economic_category', 'CO2GDP']].set_index(['year','economic_category']).unstack('economic_category').dropna()\n",
        "CO2GDP_Mod['paris_climate_accord'] = 0\n",
        "CO2GDP_Mod['paris_climate_accord'] = CO2GDP_Mod.paris_climate_accord.where(CO2GDP_Mod.index>2015,1)"
      ],
      "metadata": {
        "id": "G7qarVE5G5XK"
      },
      "execution_count": 51,
      "outputs": []
    },
    {
      "cell_type": "code",
      "source": [
        "group_mean_check = CO2GDP_Mod.groupby('paris_climate_accord').mean()\n",
        "group_mean_check"
      ],
      "metadata": {
        "colab": {
          "base_uri": "https://localhost:8080/",
          "height": 175
        },
        "outputId": "f64e93f4-8f26-4203-986d-54fe46004344",
        "id": "foEF1DjCG5XL"
      },
      "execution_count": 52,
      "outputs": [
        {
          "output_type": "execute_result",
          "data": {
            "text/plain": [
              "                        CO2GDP           \n",
              "economic_category    Developed Developing\n",
              "paris_climate_accord                     \n",
              "0                     0.176764   0.213342\n",
              "1                     0.233740   0.234135"
            ],
            "text/html": [
              "\n",
              "  <div id=\"df-fb78afdd-f205-4a34-83ca-60b6f2dd05b3\">\n",
              "    <div class=\"colab-df-container\">\n",
              "      <div>\n",
              "<style scoped>\n",
              "    .dataframe tbody tr th:only-of-type {\n",
              "        vertical-align: middle;\n",
              "    }\n",
              "\n",
              "    .dataframe tbody tr th {\n",
              "        vertical-align: top;\n",
              "    }\n",
              "\n",
              "    .dataframe thead tr th {\n",
              "        text-align: left;\n",
              "    }\n",
              "\n",
              "    .dataframe thead tr:last-of-type th {\n",
              "        text-align: right;\n",
              "    }\n",
              "</style>\n",
              "<table border=\"1\" class=\"dataframe\">\n",
              "  <thead>\n",
              "    <tr>\n",
              "      <th></th>\n",
              "      <th colspan=\"2\" halign=\"left\">CO2GDP</th>\n",
              "    </tr>\n",
              "    <tr>\n",
              "      <th>economic_category</th>\n",
              "      <th>Developed</th>\n",
              "      <th>Developing</th>\n",
              "    </tr>\n",
              "    <tr>\n",
              "      <th>paris_climate_accord</th>\n",
              "      <th></th>\n",
              "      <th></th>\n",
              "    </tr>\n",
              "  </thead>\n",
              "  <tbody>\n",
              "    <tr>\n",
              "      <th>0</th>\n",
              "      <td>0.176764</td>\n",
              "      <td>0.213342</td>\n",
              "    </tr>\n",
              "    <tr>\n",
              "      <th>1</th>\n",
              "      <td>0.233740</td>\n",
              "      <td>0.234135</td>\n",
              "    </tr>\n",
              "  </tbody>\n",
              "</table>\n",
              "</div>\n",
              "      <button class=\"colab-df-convert\" onclick=\"convertToInteractive('df-fb78afdd-f205-4a34-83ca-60b6f2dd05b3')\"\n",
              "              title=\"Convert this dataframe to an interactive table.\"\n",
              "              style=\"display:none;\">\n",
              "        \n",
              "  <svg xmlns=\"http://www.w3.org/2000/svg\" height=\"24px\"viewBox=\"0 0 24 24\"\n",
              "       width=\"24px\">\n",
              "    <path d=\"M0 0h24v24H0V0z\" fill=\"none\"/>\n",
              "    <path d=\"M18.56 5.44l.94 2.06.94-2.06 2.06-.94-2.06-.94-.94-2.06-.94 2.06-2.06.94zm-11 1L8.5 8.5l.94-2.06 2.06-.94-2.06-.94L8.5 2.5l-.94 2.06-2.06.94zm10 10l.94 2.06.94-2.06 2.06-.94-2.06-.94-.94-2.06-.94 2.06-2.06.94z\"/><path d=\"M17.41 7.96l-1.37-1.37c-.4-.4-.92-.59-1.43-.59-.52 0-1.04.2-1.43.59L10.3 9.45l-7.72 7.72c-.78.78-.78 2.05 0 2.83L4 21.41c.39.39.9.59 1.41.59.51 0 1.02-.2 1.41-.59l7.78-7.78 2.81-2.81c.8-.78.8-2.07 0-2.86zM5.41 20L4 18.59l7.72-7.72 1.47 1.35L5.41 20z\"/>\n",
              "  </svg>\n",
              "      </button>\n",
              "      \n",
              "  <style>\n",
              "    .colab-df-container {\n",
              "      display:flex;\n",
              "      flex-wrap:wrap;\n",
              "      gap: 12px;\n",
              "    }\n",
              "\n",
              "    .colab-df-convert {\n",
              "      background-color: #E8F0FE;\n",
              "      border: none;\n",
              "      border-radius: 50%;\n",
              "      cursor: pointer;\n",
              "      display: none;\n",
              "      fill: #1967D2;\n",
              "      height: 32px;\n",
              "      padding: 0 0 0 0;\n",
              "      width: 32px;\n",
              "    }\n",
              "\n",
              "    .colab-df-convert:hover {\n",
              "      background-color: #E2EBFA;\n",
              "      box-shadow: 0px 1px 2px rgba(60, 64, 67, 0.3), 0px 1px 3px 1px rgba(60, 64, 67, 0.15);\n",
              "      fill: #174EA6;\n",
              "    }\n",
              "\n",
              "    [theme=dark] .colab-df-convert {\n",
              "      background-color: #3B4455;\n",
              "      fill: #D2E3FC;\n",
              "    }\n",
              "\n",
              "    [theme=dark] .colab-df-convert:hover {\n",
              "      background-color: #434B5C;\n",
              "      box-shadow: 0px 1px 3px 1px rgba(0, 0, 0, 0.15);\n",
              "      filter: drop-shadow(0px 1px 2px rgba(0, 0, 0, 0.3));\n",
              "      fill: #FFFFFF;\n",
              "    }\n",
              "  </style>\n",
              "\n",
              "      <script>\n",
              "        const buttonEl =\n",
              "          document.querySelector('#df-fb78afdd-f205-4a34-83ca-60b6f2dd05b3 button.colab-df-convert');\n",
              "        buttonEl.style.display =\n",
              "          google.colab.kernel.accessAllowed ? 'block' : 'none';\n",
              "\n",
              "        async function convertToInteractive(key) {\n",
              "          const element = document.querySelector('#df-fb78afdd-f205-4a34-83ca-60b6f2dd05b3');\n",
              "          const dataTable =\n",
              "            await google.colab.kernel.invokeFunction('convertToInteractive',\n",
              "                                                     [key], {});\n",
              "          if (!dataTable) return;\n",
              "\n",
              "          const docLinkHtml = 'Like what you see? Visit the ' +\n",
              "            '<a target=\"_blank\" href=https://colab.research.google.com/notebooks/data_table.ipynb>data table notebook</a>'\n",
              "            + ' to learn more about interactive tables.';\n",
              "          element.innerHTML = '';\n",
              "          dataTable['output_type'] = 'display_data';\n",
              "          await google.colab.output.renderOutput(dataTable, element);\n",
              "          const docLink = document.createElement('div');\n",
              "          docLink.innerHTML = docLinkHtml;\n",
              "          element.appendChild(docLink);\n",
              "        }\n",
              "      </script>\n",
              "    </div>\n",
              "  </div>\n",
              "  "
            ]
          },
          "metadata": {},
          "execution_count": 52
        }
      ]
    },
    {
      "cell_type": "code",
      "source": [
        "CO2GDP_Mod = SDGData.loc[SDGData['economic_category'] != 'Others', ['year','economic_category', 'CO2GDP']].dropna()\n",
        "CO2GDP_Mod['paris_climate_accord'] = 0\n",
        "CO2GDP_Mod['paris_climate_accord'] = CO2GDP_Mod.paris_climate_accord.where(GDPPCMod.year>2015,1)\n",
        "\n",
        "conditions = [\n",
        "    (CO2GDP_Mod['economic_category'] == 'Developed')]\n",
        "\n",
        "choices = [0]\n",
        "CO2GDP_Mod['economic_category'] = np.select(conditions, choices, default=1)"
      ],
      "metadata": {
        "id": "SAYIrLG2G5XM"
      },
      "execution_count": 55,
      "outputs": []
    },
    {
      "cell_type": "code",
      "source": [
        "model = 'CO2GDP ~ year + economic_category + paris_climate_accord + economic_category * paris_climate_accord'\n",
        "\n",
        "CO2GDP_Model = smf.ols(formula=model, data=CO2GDP_Mod)\n",
        "CO2GDP_Mod_reults = CO2GDP_Model.fit()\n",
        "\n",
        "\n",
        "print(CO2GDP_Mod_reults.summary())"
      ],
      "metadata": {
        "colab": {
          "base_uri": "https://localhost:8080/"
        },
        "outputId": "31a7b198-5af8-4101-bb83-25a735fc86fc",
        "id": "e3BJVt5XG5XM"
      },
      "execution_count": 58,
      "outputs": [
        {
          "output_type": "stream",
          "name": "stdout",
          "text": [
            "                            OLS Regression Results                            \n",
            "==============================================================================\n",
            "Dep. Variable:                 CO2GDP   R-squared:                       0.887\n",
            "Model:                            OLS   Adj. R-squared:                  0.874\n",
            "Method:                 Least Squares   F-statistic:                     68.76\n",
            "Date:                Mon, 09 May 2022   Prob (F-statistic):           4.36e-16\n",
            "Time:                        18:52:43   Log-Likelihood:                 130.70\n",
            "No. Observations:                  40   AIC:                            -251.4\n",
            "Df Residuals:                      35   BIC:                            -242.9\n",
            "Df Model:                           4                                         \n",
            "Covariance Type:            nonrobust                                         \n",
            "==========================================================================================================\n",
            "                                             coef    std err          t      P>|t|      [0.025      0.975]\n",
            "----------------------------------------------------------------------------------------------------------\n",
            "Intercept                                  9.3836      0.757     12.394      0.000       7.847      10.921\n",
            "year                                      -0.0046      0.000    -12.161      0.000      -0.005      -0.004\n",
            "economic_category                          0.0366      0.007      5.248      0.000       0.022       0.051\n",
            "paris_climate_accord                       0.0113      0.007      1.701      0.098      -0.002       0.025\n",
            "economic_category:paris_climate_accord    -0.0362      0.008     -4.643      0.000      -0.052      -0.020\n",
            "==============================================================================\n",
            "Omnibus:                        1.780   Durbin-Watson:                   0.461\n",
            "Prob(Omnibus):                  0.411   Jarque-Bera (JB):                1.530\n",
            "Skew:                           0.335   Prob(JB):                        0.465\n",
            "Kurtosis:                       2.315   Cond. No.                     9.76e+05\n",
            "==============================================================================\n",
            "\n",
            "Warnings:\n",
            "[1] Standard Errors assume that the covariance matrix of the errors is correctly specified.\n",
            "[2] The condition number is large, 9.76e+05. This might indicate that there are\n",
            "strong multicollinearity or other numerical problems.\n"
          ]
        }
      ]
    },
    {
      "cell_type": "markdown",
      "source": [
        "# Difference-in Difference on AtmCO2"
      ],
      "metadata": {
        "id": "RKTpCC5fKuso"
      }
    },
    {
      "cell_type": "code",
      "source": [
        "AtmCO2_Mod = SDGData[SDGData['economic_category'] != 'Others']\n",
        "AtmCO2_Mod = AtmCO2_Mod[['year','economic_category', 'AtmCO2']].set_index(['year','economic_category']).unstack('economic_category').dropna()\n",
        "AtmCO2_Mod['paris_climate_accord'] = 0\n",
        "AtmCO2_Mod['paris_climate_accord'] = AtmCO2_Mod.paris_climate_accord.where(AtmCO2_Mod.index>2015,1)"
      ],
      "metadata": {
        "id": "7zn-Ydt8Kusp"
      },
      "execution_count": 59,
      "outputs": []
    },
    {
      "cell_type": "code",
      "source": [
        "group_mean_check = AtmCO2_Mod.groupby('paris_climate_accord').mean()\n",
        "group_mean_check"
      ],
      "metadata": {
        "colab": {
          "base_uri": "https://localhost:8080/",
          "height": 175
        },
        "outputId": "e70108d7-629d-4e1f-cc2b-fd4ea977633c",
        "id": "kHXPABemKusp"
      },
      "execution_count": 60,
      "outputs": [
        {
          "output_type": "execute_result",
          "data": {
            "text/plain": [
              "                        AtmCO2           \n",
              "economic_category    Developed Developing\n",
              "paris_climate_accord                     \n",
              "0                     0.239847   0.544637\n",
              "1                     0.355847   0.597119"
            ],
            "text/html": [
              "\n",
              "  <div id=\"df-a5694051-749d-4c81-86a0-e4186d9def8c\">\n",
              "    <div class=\"colab-df-container\">\n",
              "      <div>\n",
              "<style scoped>\n",
              "    .dataframe tbody tr th:only-of-type {\n",
              "        vertical-align: middle;\n",
              "    }\n",
              "\n",
              "    .dataframe tbody tr th {\n",
              "        vertical-align: top;\n",
              "    }\n",
              "\n",
              "    .dataframe thead tr th {\n",
              "        text-align: left;\n",
              "    }\n",
              "\n",
              "    .dataframe thead tr:last-of-type th {\n",
              "        text-align: right;\n",
              "    }\n",
              "</style>\n",
              "<table border=\"1\" class=\"dataframe\">\n",
              "  <thead>\n",
              "    <tr>\n",
              "      <th></th>\n",
              "      <th colspan=\"2\" halign=\"left\">AtmCO2</th>\n",
              "    </tr>\n",
              "    <tr>\n",
              "      <th>economic_category</th>\n",
              "      <th>Developed</th>\n",
              "      <th>Developing</th>\n",
              "    </tr>\n",
              "    <tr>\n",
              "      <th>paris_climate_accord</th>\n",
              "      <th></th>\n",
              "      <th></th>\n",
              "    </tr>\n",
              "  </thead>\n",
              "  <tbody>\n",
              "    <tr>\n",
              "      <th>0</th>\n",
              "      <td>0.239847</td>\n",
              "      <td>0.544637</td>\n",
              "    </tr>\n",
              "    <tr>\n",
              "      <th>1</th>\n",
              "      <td>0.355847</td>\n",
              "      <td>0.597119</td>\n",
              "    </tr>\n",
              "  </tbody>\n",
              "</table>\n",
              "</div>\n",
              "      <button class=\"colab-df-convert\" onclick=\"convertToInteractive('df-a5694051-749d-4c81-86a0-e4186d9def8c')\"\n",
              "              title=\"Convert this dataframe to an interactive table.\"\n",
              "              style=\"display:none;\">\n",
              "        \n",
              "  <svg xmlns=\"http://www.w3.org/2000/svg\" height=\"24px\"viewBox=\"0 0 24 24\"\n",
              "       width=\"24px\">\n",
              "    <path d=\"M0 0h24v24H0V0z\" fill=\"none\"/>\n",
              "    <path d=\"M18.56 5.44l.94 2.06.94-2.06 2.06-.94-2.06-.94-.94-2.06-.94 2.06-2.06.94zm-11 1L8.5 8.5l.94-2.06 2.06-.94-2.06-.94L8.5 2.5l-.94 2.06-2.06.94zm10 10l.94 2.06.94-2.06 2.06-.94-2.06-.94-.94-2.06-.94 2.06-2.06.94z\"/><path d=\"M17.41 7.96l-1.37-1.37c-.4-.4-.92-.59-1.43-.59-.52 0-1.04.2-1.43.59L10.3 9.45l-7.72 7.72c-.78.78-.78 2.05 0 2.83L4 21.41c.39.39.9.59 1.41.59.51 0 1.02-.2 1.41-.59l7.78-7.78 2.81-2.81c.8-.78.8-2.07 0-2.86zM5.41 20L4 18.59l7.72-7.72 1.47 1.35L5.41 20z\"/>\n",
              "  </svg>\n",
              "      </button>\n",
              "      \n",
              "  <style>\n",
              "    .colab-df-container {\n",
              "      display:flex;\n",
              "      flex-wrap:wrap;\n",
              "      gap: 12px;\n",
              "    }\n",
              "\n",
              "    .colab-df-convert {\n",
              "      background-color: #E8F0FE;\n",
              "      border: none;\n",
              "      border-radius: 50%;\n",
              "      cursor: pointer;\n",
              "      display: none;\n",
              "      fill: #1967D2;\n",
              "      height: 32px;\n",
              "      padding: 0 0 0 0;\n",
              "      width: 32px;\n",
              "    }\n",
              "\n",
              "    .colab-df-convert:hover {\n",
              "      background-color: #E2EBFA;\n",
              "      box-shadow: 0px 1px 2px rgba(60, 64, 67, 0.3), 0px 1px 3px 1px rgba(60, 64, 67, 0.15);\n",
              "      fill: #174EA6;\n",
              "    }\n",
              "\n",
              "    [theme=dark] .colab-df-convert {\n",
              "      background-color: #3B4455;\n",
              "      fill: #D2E3FC;\n",
              "    }\n",
              "\n",
              "    [theme=dark] .colab-df-convert:hover {\n",
              "      background-color: #434B5C;\n",
              "      box-shadow: 0px 1px 3px 1px rgba(0, 0, 0, 0.15);\n",
              "      filter: drop-shadow(0px 1px 2px rgba(0, 0, 0, 0.3));\n",
              "      fill: #FFFFFF;\n",
              "    }\n",
              "  </style>\n",
              "\n",
              "      <script>\n",
              "        const buttonEl =\n",
              "          document.querySelector('#df-a5694051-749d-4c81-86a0-e4186d9def8c button.colab-df-convert');\n",
              "        buttonEl.style.display =\n",
              "          google.colab.kernel.accessAllowed ? 'block' : 'none';\n",
              "\n",
              "        async function convertToInteractive(key) {\n",
              "          const element = document.querySelector('#df-a5694051-749d-4c81-86a0-e4186d9def8c');\n",
              "          const dataTable =\n",
              "            await google.colab.kernel.invokeFunction('convertToInteractive',\n",
              "                                                     [key], {});\n",
              "          if (!dataTable) return;\n",
              "\n",
              "          const docLinkHtml = 'Like what you see? Visit the ' +\n",
              "            '<a target=\"_blank\" href=https://colab.research.google.com/notebooks/data_table.ipynb>data table notebook</a>'\n",
              "            + ' to learn more about interactive tables.';\n",
              "          element.innerHTML = '';\n",
              "          dataTable['output_type'] = 'display_data';\n",
              "          await google.colab.output.renderOutput(dataTable, element);\n",
              "          const docLink = document.createElement('div');\n",
              "          docLink.innerHTML = docLinkHtml;\n",
              "          element.appendChild(docLink);\n",
              "        }\n",
              "      </script>\n",
              "    </div>\n",
              "  </div>\n",
              "  "
            ]
          },
          "metadata": {},
          "execution_count": 60
        }
      ]
    },
    {
      "cell_type": "code",
      "source": [
        "AtmCO2_Mod = SDGData.loc[SDGData['economic_category'] != 'Others', ['year','economic_category', 'AtmCO2']].dropna()\n",
        "AtmCO2_Mod['paris_climate_accord'] = 0\n",
        "AtmCO2_Mod['paris_climate_accord'] = AtmCO2_Mod.paris_climate_accord.where(GDPPCMod.year>2015,1)\n",
        "\n",
        "conditions = [\n",
        "    (AtmCO2_Mod['economic_category'] == 'Developed')]\n",
        "\n",
        "choices = [0]\n",
        "AtmCO2_Mod['economic_category'] = np.select(conditions, choices, default=1)"
      ],
      "metadata": {
        "id": "ewXftiZcKusq"
      },
      "execution_count": 61,
      "outputs": []
    },
    {
      "cell_type": "code",
      "source": [
        "model = 'AtmCO2 ~ year + economic_category + paris_climate_accord + economic_category * paris_climate_accord'\n",
        "\n",
        "AtmCO2_Model = smf.ols(formula=model, data=AtmCO2_Mod)\n",
        "AtmCO2_Mod_results = AtmCO2_Model.fit()\n",
        "\n",
        "\n",
        "print(AtmCO2_Mod_results.summary())"
      ],
      "metadata": {
        "colab": {
          "base_uri": "https://localhost:8080/"
        },
        "outputId": "4add32f8-1330-4fcf-f61d-964856cb8b28",
        "id": "NzMwO-e6Kusq"
      },
      "execution_count": 63,
      "outputs": [
        {
          "output_type": "stream",
          "name": "stdout",
          "text": [
            "                            OLS Regression Results                            \n",
            "==============================================================================\n",
            "Dep. Variable:                 AtmCO2   R-squared:                       0.977\n",
            "Model:                            OLS   Adj. R-squared:                  0.974\n",
            "Method:                 Least Squares   F-statistic:                     372.3\n",
            "Date:                Mon, 09 May 2022   Prob (F-statistic):           3.76e-28\n",
            "Time:                        18:57:23   Log-Likelihood:                 94.947\n",
            "No. Observations:                  40   AIC:                            -179.9\n",
            "Df Residuals:                      35   BIC:                            -171.4\n",
            "Df Model:                           4                                         \n",
            "Covariance Type:            nonrobust                                         \n",
            "==========================================================================================================\n",
            "                                             coef    std err          t      P>|t|      [0.025      0.975]\n",
            "----------------------------------------------------------------------------------------------------------\n",
            "Intercept                                 31.6844      1.850     17.122      0.000      27.928      35.441\n",
            "year                                      -0.0156      0.001    -16.993      0.000      -0.017      -0.014\n",
            "economic_category                          0.3048      0.017     17.891      0.000       0.270       0.339\n",
            "paris_climate_accord                      -0.0399      0.016     -2.446      0.020      -0.073      -0.007\n",
            "economic_category:paris_climate_accord    -0.0635      0.019     -3.335      0.002      -0.102      -0.025\n",
            "==============================================================================\n",
            "Omnibus:                        2.964   Durbin-Watson:                   0.971\n",
            "Prob(Omnibus):                  0.227   Jarque-Bera (JB):                2.055\n",
            "Skew:                           0.542   Prob(JB):                        0.358\n",
            "Kurtosis:                       3.238   Cond. No.                     9.76e+05\n",
            "==============================================================================\n",
            "\n",
            "Warnings:\n",
            "[1] Standard Errors assume that the covariance matrix of the errors is correctly specified.\n",
            "[2] The condition number is large, 9.76e+05. This might indicate that there are\n",
            "strong multicollinearity or other numerical problems.\n"
          ]
        }
      ]
    },
    {
      "cell_type": "code",
      "source": [
        "print(AtmCO2_Mod_results.summary().as_latex())"
      ],
      "metadata": {
        "colab": {
          "base_uri": "https://localhost:8080/"
        },
        "id": "i5mtUmGUMWr8",
        "outputId": "6216cf09-3354-4bbd-8d62-0782ca455150"
      },
      "execution_count": 64,
      "outputs": [
        {
          "output_type": "stream",
          "name": "stdout",
          "text": [
            "\\begin{center}\n",
            "\\begin{tabular}{lclc}\n",
            "\\toprule\n",
            "\\textbf{Dep. Variable:}                            &      AtmCO2      & \\textbf{  R-squared:         } &     0.977   \\\\\n",
            "\\textbf{Model:}                                    &       OLS        & \\textbf{  Adj. R-squared:    } &     0.974   \\\\\n",
            "\\textbf{Method:}                                   &  Least Squares   & \\textbf{  F-statistic:       } &     372.3   \\\\\n",
            "\\textbf{Date:}                                     & Mon, 09 May 2022 & \\textbf{  Prob (F-statistic):} &  3.76e-28   \\\\\n",
            "\\textbf{Time:}                                     &     19:00:16     & \\textbf{  Log-Likelihood:    } &    94.947   \\\\\n",
            "\\textbf{No. Observations:}                         &          40      & \\textbf{  AIC:               } &    -179.9   \\\\\n",
            "\\textbf{Df Residuals:}                             &          35      & \\textbf{  BIC:               } &    -171.4   \\\\\n",
            "\\textbf{Df Model:}                                 &           4      & \\textbf{                     } &             \\\\\n",
            "\\bottomrule\n",
            "\\end{tabular}\n",
            "\\begin{tabular}{lcccccc}\n",
            "                                                   & \\textbf{coef} & \\textbf{std err} & \\textbf{t} & \\textbf{P$> |$t$|$} & \\textbf{[0.025} & \\textbf{0.975]}  \\\\\n",
            "\\midrule\n",
            "\\textbf{Intercept}                                 &      31.6844  &        1.850     &    17.122  &         0.000        &       27.928    &       35.441     \\\\\n",
            "\\textbf{year}                                      &      -0.0156  &        0.001     &   -16.993  &         0.000        &       -0.017    &       -0.014     \\\\\n",
            "\\textbf{economic\\_category}                        &       0.3048  &        0.017     &    17.891  &         0.000        &        0.270    &        0.339     \\\\\n",
            "\\textbf{paris\\_climate\\_accord}                    &      -0.0399  &        0.016     &    -2.446  &         0.020        &       -0.073    &       -0.007     \\\\\n",
            "\\textbf{economic\\_category:paris\\_climate\\_accord} &      -0.0635  &        0.019     &    -3.335  &         0.002        &       -0.102    &       -0.025     \\\\\n",
            "\\bottomrule\n",
            "\\end{tabular}\n",
            "\\begin{tabular}{lclc}\n",
            "\\textbf{Omnibus:}       &  2.964 & \\textbf{  Durbin-Watson:     } &    0.971  \\\\\n",
            "\\textbf{Prob(Omnibus):} &  0.227 & \\textbf{  Jarque-Bera (JB):  } &    2.055  \\\\\n",
            "\\textbf{Skew:}          &  0.542 & \\textbf{  Prob(JB):          } &    0.358  \\\\\n",
            "\\textbf{Kurtosis:}      &  3.238 & \\textbf{  Cond. No.          } & 9.76e+05  \\\\\n",
            "\\bottomrule\n",
            "\\end{tabular}\n",
            "%\\caption{OLS Regression Results}\n",
            "\\end{center}\n",
            "\n",
            "Warnings: \\newline\n",
            " [1] Standard Errors assume that the covariance matrix of the errors is correctly specified. \\newline\n",
            " [2] The condition number is large, 9.76e+05. This might indicate that there are \\newline\n",
            " strong multicollinearity or other numerical problems.\n"
          ]
        }
      ]
    },
    {
      "cell_type": "code",
      "source": [
        ""
      ],
      "metadata": {
        "id": "WYHQOJwwMZCF"
      },
      "execution_count": null,
      "outputs": []
    }
  ]
}