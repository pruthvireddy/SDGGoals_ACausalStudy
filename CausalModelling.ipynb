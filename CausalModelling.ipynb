{
  "nbformat": 4,
  "nbformat_minor": 0,
  "metadata": {
    "colab": {
      "name": "CausalModelling.ipynb",
      "provenance": [],
      "collapsed_sections": [
        "BwOFYq236K3M",
        "Ie1--6nFG5W8"
      ]
    },
    "kernelspec": {
      "name": "python3",
      "display_name": "Python 3"
    },
    "language_info": {
      "name": "python"
    }
  },
  "cells": [
    {
      "cell_type": "code",
      "execution_count": 1,
      "metadata": {
        "id": "m1SDSMHclGbp"
      },
      "outputs": [],
      "source": [
        "%%capture\n",
        "# Importing required libraries\n",
        "import pandas as pd\n",
        "import numpy as np\n",
        "\n",
        "import statsmodels.formula.api as smf"
      ]
    },
    {
      "cell_type": "code",
      "source": [
        "SDGData = pd.read_csv('https://raw.githubusercontent.com/pruthvireddy/SDGGoals_ACausalStudy/main/Data/Processed/GlobalData.csv')\n",
        "SDGDataUn = pd.read_csv('https://raw.githubusercontent.com/pruthvireddy/SDGGoals_ACausalStudy/main/Data/Processed/ModelData.csv')\n",
        "\n",
        "\n",
        "SDGData=SDGData.rename(columns = {'economic_category':'econ_cat'})\n",
        "SDGDataUn=SDGDataUn.rename(columns = {'economic_category':'econ_cat'})"
      ],
      "metadata": {
        "id": "lu2Zh1zJ1WES"
      },
      "execution_count": 2,
      "outputs": []
    },
    {
      "cell_type": "code",
      "source": [
        "SDGData.head()"
      ],
      "metadata": {
        "colab": {
          "base_uri": "https://localhost:8080/",
          "height": 206
        },
        "id": "OfQ-Pt6T1te9",
        "outputId": "27da1ab3-4946-427c-8a4b-302f45bad99f"
      },
      "execution_count": 3,
      "outputs": [
        {
          "output_type": "execute_result",
          "data": {
            "text/plain": [
              "       metric_key  year   econ_cat           GDP        GDP_15    GDP_PC  \\\n",
              "0  developed-2000  2000  Developed  8.159867e+11  1.036680e+12  27748.42   \n",
              "1  developed-2001  2001  Developed  7.833653e+11  1.054067e+12  28201.18   \n",
              "2  developed-2002  2002  Developed  8.153283e+11  1.066910e+12  28634.53   \n",
              "3  developed-2003  2003  Developed  9.523626e+11  1.083325e+12  29056.41   \n",
              "4  developed-2004  2004  Developed  1.084243e+12  1.110886e+12  29864.99   \n",
              "\n",
              "   GDP_PC_PPP  GDP_PC_PPP_17  GDP_PEMP       GDP_PPP  MFG_VA  ELC_POP  \\\n",
              "0    21889.46       33294.94  76780.53  8.407390e+11   16.03    100.0   \n",
              "1    22883.42       33940.95  78184.48  8.784286e+11   15.76    100.0   \n",
              "2    23919.38       34549.04  79313.37  9.144412e+11   15.37    100.0   \n",
              "3    24698.18       35153.29  80366.24  9.427193e+11   15.05    100.0   \n",
              "4    26101.88       36219.06  82640.68  9.914834e+11   14.98    100.0   \n",
              "\n",
              "   ELC_RUR_POP    CO2GDP    AtmCO2  \n",
              "0        100.0  0.280833  0.535944  \n",
              "1        100.0  0.278944  0.492278  \n",
              "2        100.0  0.271167  0.464611  \n",
              "3        100.0  0.270889  0.441833  \n",
              "4        100.0  0.259389  0.410222  "
            ],
            "text/html": [
              "\n",
              "  <div id=\"df-b95f484c-0468-43e6-ab85-86eb82ac6eb4\">\n",
              "    <div class=\"colab-df-container\">\n",
              "      <div>\n",
              "<style scoped>\n",
              "    .dataframe tbody tr th:only-of-type {\n",
              "        vertical-align: middle;\n",
              "    }\n",
              "\n",
              "    .dataframe tbody tr th {\n",
              "        vertical-align: top;\n",
              "    }\n",
              "\n",
              "    .dataframe thead th {\n",
              "        text-align: right;\n",
              "    }\n",
              "</style>\n",
              "<table border=\"1\" class=\"dataframe\">\n",
              "  <thead>\n",
              "    <tr style=\"text-align: right;\">\n",
              "      <th></th>\n",
              "      <th>metric_key</th>\n",
              "      <th>year</th>\n",
              "      <th>econ_cat</th>\n",
              "      <th>GDP</th>\n",
              "      <th>GDP_15</th>\n",
              "      <th>GDP_PC</th>\n",
              "      <th>GDP_PC_PPP</th>\n",
              "      <th>GDP_PC_PPP_17</th>\n",
              "      <th>GDP_PEMP</th>\n",
              "      <th>GDP_PPP</th>\n",
              "      <th>MFG_VA</th>\n",
              "      <th>ELC_POP</th>\n",
              "      <th>ELC_RUR_POP</th>\n",
              "      <th>CO2GDP</th>\n",
              "      <th>AtmCO2</th>\n",
              "    </tr>\n",
              "  </thead>\n",
              "  <tbody>\n",
              "    <tr>\n",
              "      <th>0</th>\n",
              "      <td>developed-2000</td>\n",
              "      <td>2000</td>\n",
              "      <td>Developed</td>\n",
              "      <td>8.159867e+11</td>\n",
              "      <td>1.036680e+12</td>\n",
              "      <td>27748.42</td>\n",
              "      <td>21889.46</td>\n",
              "      <td>33294.94</td>\n",
              "      <td>76780.53</td>\n",
              "      <td>8.407390e+11</td>\n",
              "      <td>16.03</td>\n",
              "      <td>100.0</td>\n",
              "      <td>100.0</td>\n",
              "      <td>0.280833</td>\n",
              "      <td>0.535944</td>\n",
              "    </tr>\n",
              "    <tr>\n",
              "      <th>1</th>\n",
              "      <td>developed-2001</td>\n",
              "      <td>2001</td>\n",
              "      <td>Developed</td>\n",
              "      <td>7.833653e+11</td>\n",
              "      <td>1.054067e+12</td>\n",
              "      <td>28201.18</td>\n",
              "      <td>22883.42</td>\n",
              "      <td>33940.95</td>\n",
              "      <td>78184.48</td>\n",
              "      <td>8.784286e+11</td>\n",
              "      <td>15.76</td>\n",
              "      <td>100.0</td>\n",
              "      <td>100.0</td>\n",
              "      <td>0.278944</td>\n",
              "      <td>0.492278</td>\n",
              "    </tr>\n",
              "    <tr>\n",
              "      <th>2</th>\n",
              "      <td>developed-2002</td>\n",
              "      <td>2002</td>\n",
              "      <td>Developed</td>\n",
              "      <td>8.153283e+11</td>\n",
              "      <td>1.066910e+12</td>\n",
              "      <td>28634.53</td>\n",
              "      <td>23919.38</td>\n",
              "      <td>34549.04</td>\n",
              "      <td>79313.37</td>\n",
              "      <td>9.144412e+11</td>\n",
              "      <td>15.37</td>\n",
              "      <td>100.0</td>\n",
              "      <td>100.0</td>\n",
              "      <td>0.271167</td>\n",
              "      <td>0.464611</td>\n",
              "    </tr>\n",
              "    <tr>\n",
              "      <th>3</th>\n",
              "      <td>developed-2003</td>\n",
              "      <td>2003</td>\n",
              "      <td>Developed</td>\n",
              "      <td>9.523626e+11</td>\n",
              "      <td>1.083325e+12</td>\n",
              "      <td>29056.41</td>\n",
              "      <td>24698.18</td>\n",
              "      <td>35153.29</td>\n",
              "      <td>80366.24</td>\n",
              "      <td>9.427193e+11</td>\n",
              "      <td>15.05</td>\n",
              "      <td>100.0</td>\n",
              "      <td>100.0</td>\n",
              "      <td>0.270889</td>\n",
              "      <td>0.441833</td>\n",
              "    </tr>\n",
              "    <tr>\n",
              "      <th>4</th>\n",
              "      <td>developed-2004</td>\n",
              "      <td>2004</td>\n",
              "      <td>Developed</td>\n",
              "      <td>1.084243e+12</td>\n",
              "      <td>1.110886e+12</td>\n",
              "      <td>29864.99</td>\n",
              "      <td>26101.88</td>\n",
              "      <td>36219.06</td>\n",
              "      <td>82640.68</td>\n",
              "      <td>9.914834e+11</td>\n",
              "      <td>14.98</td>\n",
              "      <td>100.0</td>\n",
              "      <td>100.0</td>\n",
              "      <td>0.259389</td>\n",
              "      <td>0.410222</td>\n",
              "    </tr>\n",
              "  </tbody>\n",
              "</table>\n",
              "</div>\n",
              "      <button class=\"colab-df-convert\" onclick=\"convertToInteractive('df-b95f484c-0468-43e6-ab85-86eb82ac6eb4')\"\n",
              "              title=\"Convert this dataframe to an interactive table.\"\n",
              "              style=\"display:none;\">\n",
              "        \n",
              "  <svg xmlns=\"http://www.w3.org/2000/svg\" height=\"24px\"viewBox=\"0 0 24 24\"\n",
              "       width=\"24px\">\n",
              "    <path d=\"M0 0h24v24H0V0z\" fill=\"none\"/>\n",
              "    <path d=\"M18.56 5.44l.94 2.06.94-2.06 2.06-.94-2.06-.94-.94-2.06-.94 2.06-2.06.94zm-11 1L8.5 8.5l.94-2.06 2.06-.94-2.06-.94L8.5 2.5l-.94 2.06-2.06.94zm10 10l.94 2.06.94-2.06 2.06-.94-2.06-.94-.94-2.06-.94 2.06-2.06.94z\"/><path d=\"M17.41 7.96l-1.37-1.37c-.4-.4-.92-.59-1.43-.59-.52 0-1.04.2-1.43.59L10.3 9.45l-7.72 7.72c-.78.78-.78 2.05 0 2.83L4 21.41c.39.39.9.59 1.41.59.51 0 1.02-.2 1.41-.59l7.78-7.78 2.81-2.81c.8-.78.8-2.07 0-2.86zM5.41 20L4 18.59l7.72-7.72 1.47 1.35L5.41 20z\"/>\n",
              "  </svg>\n",
              "      </button>\n",
              "      \n",
              "  <style>\n",
              "    .colab-df-container {\n",
              "      display:flex;\n",
              "      flex-wrap:wrap;\n",
              "      gap: 12px;\n",
              "    }\n",
              "\n",
              "    .colab-df-convert {\n",
              "      background-color: #E8F0FE;\n",
              "      border: none;\n",
              "      border-radius: 50%;\n",
              "      cursor: pointer;\n",
              "      display: none;\n",
              "      fill: #1967D2;\n",
              "      height: 32px;\n",
              "      padding: 0 0 0 0;\n",
              "      width: 32px;\n",
              "    }\n",
              "\n",
              "    .colab-df-convert:hover {\n",
              "      background-color: #E2EBFA;\n",
              "      box-shadow: 0px 1px 2px rgba(60, 64, 67, 0.3), 0px 1px 3px 1px rgba(60, 64, 67, 0.15);\n",
              "      fill: #174EA6;\n",
              "    }\n",
              "\n",
              "    [theme=dark] .colab-df-convert {\n",
              "      background-color: #3B4455;\n",
              "      fill: #D2E3FC;\n",
              "    }\n",
              "\n",
              "    [theme=dark] .colab-df-convert:hover {\n",
              "      background-color: #434B5C;\n",
              "      box-shadow: 0px 1px 3px 1px rgba(0, 0, 0, 0.15);\n",
              "      filter: drop-shadow(0px 1px 2px rgba(0, 0, 0, 0.3));\n",
              "      fill: #FFFFFF;\n",
              "    }\n",
              "  </style>\n",
              "\n",
              "      <script>\n",
              "        const buttonEl =\n",
              "          document.querySelector('#df-b95f484c-0468-43e6-ab85-86eb82ac6eb4 button.colab-df-convert');\n",
              "        buttonEl.style.display =\n",
              "          google.colab.kernel.accessAllowed ? 'block' : 'none';\n",
              "\n",
              "        async function convertToInteractive(key) {\n",
              "          const element = document.querySelector('#df-b95f484c-0468-43e6-ab85-86eb82ac6eb4');\n",
              "          const dataTable =\n",
              "            await google.colab.kernel.invokeFunction('convertToInteractive',\n",
              "                                                     [key], {});\n",
              "          if (!dataTable) return;\n",
              "\n",
              "          const docLinkHtml = 'Like what you see? Visit the ' +\n",
              "            '<a target=\"_blank\" href=https://colab.research.google.com/notebooks/data_table.ipynb>data table notebook</a>'\n",
              "            + ' to learn more about interactive tables.';\n",
              "          element.innerHTML = '';\n",
              "          dataTable['output_type'] = 'display_data';\n",
              "          await google.colab.output.renderOutput(dataTable, element);\n",
              "          const docLink = document.createElement('div');\n",
              "          docLink.innerHTML = docLinkHtml;\n",
              "          element.appendChild(docLink);\n",
              "        }\n",
              "      </script>\n",
              "    </div>\n",
              "  </div>\n",
              "  "
            ]
          },
          "metadata": {},
          "execution_count": 3
        }
      ]
    },
    {
      "cell_type": "code",
      "source": [
        "SDGDataUn.groupby('year')['AtmCO2','CO2GDP'].mean().plot();"
      ],
      "metadata": {
        "colab": {
          "base_uri": "https://localhost:8080/",
          "height": 314
        },
        "id": "Vx_CLzPF13zE",
        "outputId": "de74447a-bf1b-46f4-9e7c-e4b6b0c4e7e9"
      },
      "execution_count": 4,
      "outputs": [
        {
          "output_type": "stream",
          "name": "stderr",
          "text": [
            "/usr/local/lib/python3.7/dist-packages/ipykernel_launcher.py:1: FutureWarning: Indexing with multiple keys (implicitly converted to a tuple of keys) will be deprecated, use a list instead.\n",
            "  \"\"\"Entry point for launching an IPython kernel.\n"
          ]
        },
        {
          "output_type": "display_data",
          "data": {
            "text/plain": [
              "<Figure size 432x288 with 1 Axes>"
            ],
            "image/png": "[encoded data removed]"
          },
          "metadata": {
            "needs_background": "light"
          }
        }
      ]
    },
    {
      "cell_type": "code",
      "source": [
        "SDGDataUn.groupby('year')['AtmCO2','CO2GDP'].mean().plot();"
      ],
      "metadata": {
        "id": "mQuvka3LL5BF",
        "colab": {
          "base_uri": "https://localhost:8080/",
          "height": 314
        },
        "outputId": "1678befd-8d27-41ee-f5eb-b6aeab094eba"
      },
      "execution_count": 5,
      "outputs": [
        {
          "output_type": "stream",
          "name": "stderr",
          "text": [
            "/usr/local/lib/python3.7/dist-packages/ipykernel_launcher.py:1: FutureWarning: Indexing with multiple keys (implicitly converted to a tuple of keys) will be deprecated, use a list instead.\n",
            "  \"\"\"Entry point for launching an IPython kernel.\n"
          ]
        },
        {
          "output_type": "display_data",
          "data": {
            "text/plain": [
              "<Figure size 432x288 with 1 Axes>"
            ],
            "image/png": "[encoded data removed]"
          },
          "metadata": {
            "needs_background": "light"
          }
        }
      ]
    },
    {
      "cell_type": "markdown",
      "source": [
        "# Difference-in Difference on GDP_PC_PPP"
      ],
      "metadata": {
        "id": "BwOFYq236K3M"
      }
    },
    {
      "cell_type": "code",
      "source": [
        "GDPPCGP = SDGData[SDGData['econ_cat'] != 'Others']\n",
        "GDPPCGP = GDPPCGP[['year','econ_cat', 'GDP_PC_PPP']].set_index(['year','econ_cat']).unstack('econ_cat').dropna()\n",
        "GDPPCGP['pa_clim_acc'] = 0\n",
        "GDPPCGP['pa_clim_acc'] = GDPPCGP.pa_clim_acc.where(GDPPCGP.index>2015,1)"
      ],
      "metadata": {
        "id": "h8M4Uypv2V9G"
      },
      "execution_count": 6,
      "outputs": []
    },
    {
      "cell_type": "code",
      "source": [
        "group_mean_check = GDPPCGP.groupby('pa_clim_acc').mean()\n",
        "group_mean_check"
      ],
      "metadata": {
        "colab": {
          "base_uri": "https://localhost:8080/",
          "height": 0
        },
        "id": "DwCou_9J5Zc4",
        "outputId": "75847008-f91f-42b3-e7a1-1ddb9eae360b"
      },
      "execution_count": 7,
      "outputs": [
        {
          "output_type": "execute_result",
          "data": {
            "text/plain": [
              "               GDP_PC_PPP              \n",
              "econ_cat        Developed    Developing\n",
              "pa_clim_acc                            \n",
              "0            42132.297500  16719.262500\n",
              "1            28723.466667  13329.887778"
            ],
            "text/html": [
              "\n",
              "  <div id=\"df-ec4a4128-9c2b-409b-b1ee-88b187a95c27\">\n",
              "    <div class=\"colab-df-container\">\n",
              "      <div>\n",
              "<style scoped>\n",
              "    .dataframe tbody tr th:only-of-type {\n",
              "        vertical-align: middle;\n",
              "    }\n",
              "\n",
              "    .dataframe tbody tr th {\n",
              "        vertical-align: top;\n",
              "    }\n",
              "\n",
              "    .dataframe thead tr th {\n",
              "        text-align: left;\n",
              "    }\n",
              "\n",
              "    .dataframe thead tr:last-of-type th {\n",
              "        text-align: right;\n",
              "    }\n",
              "</style>\n",
              "<table border=\"1\" class=\"dataframe\">\n",
              "  <thead>\n",
              "    <tr>\n",
              "      <th></th>\n",
              "      <th colspan=\"2\" halign=\"left\">GDP_PC_PPP</th>\n",
              "    </tr>\n",
              "    <tr>\n",
              "      <th>econ_cat</th>\n",
              "      <th>Developed</th>\n",
              "      <th>Developing</th>\n",
              "    </tr>\n",
              "    <tr>\n",
              "      <th>pa_clim_acc</th>\n",
              "      <th></th>\n",
              "      <th></th>\n",
              "    </tr>\n",
              "  </thead>\n",
              "  <tbody>\n",
              "    <tr>\n",
              "      <th>0</th>\n",
              "      <td>42132.297500</td>\n",
              "      <td>16719.262500</td>\n",
              "    </tr>\n",
              "    <tr>\n",
              "      <th>1</th>\n",
              "      <td>28723.466667</td>\n",
              "      <td>13329.887778</td>\n",
              "    </tr>\n",
              "  </tbody>\n",
              "</table>\n",
              "</div>\n",
              "      <button class=\"colab-df-convert\" onclick=\"convertToInteractive('df-ec4a4128-9c2b-409b-b1ee-88b187a95c27')\"\n",
              "              title=\"Convert this dataframe to an interactive table.\"\n",
              "              style=\"display:none;\">\n",
              "        \n",
              "  <svg xmlns=\"http://www.w3.org/2000/svg\" height=\"24px\"viewBox=\"0 0 24 24\"\n",
              "       width=\"24px\">\n",
              "    <path d=\"M0 0h24v24H0V0z\" fill=\"none\"/>\n",
              "    <path d=\"M18.56 5.44l.94 2.06.94-2.06 2.06-.94-2.06-.94-.94-2.06-.94 2.06-2.06.94zm-11 1L8.5 8.5l.94-2.06 2.06-.94-2.06-.94L8.5 2.5l-.94 2.06-2.06.94zm10 10l.94 2.06.94-2.06 2.06-.94-2.06-.94-.94-2.06-.94 2.06-2.06.94z\"/><path d=\"M17.41 7.96l-1.37-1.37c-.4-.4-.92-.59-1.43-.59-.52 0-1.04.2-1.43.59L10.3 9.45l-7.72 7.72c-.78.78-.78 2.05 0 2.83L4 21.41c.39.39.9.59 1.41.59.51 0 1.02-.2 1.41-.59l7.78-7.78 2.81-2.81c.8-.78.8-2.07 0-2.86zM5.41 20L4 18.59l7.72-7.72 1.47 1.35L5.41 20z\"/>\n",
              "  </svg>\n",
              "      </button>\n",
              "      \n",
              "  <style>\n",
              "    .colab-df-container {\n",
              "      display:flex;\n",
              "      flex-wrap:wrap;\n",
              "      gap: 12px;\n",
              "    }\n",
              "\n",
              "    .colab-df-convert {\n",
              "      background-color: #E8F0FE;\n",
              "      border: none;\n",
              "      border-radius: 50%;\n",
              "      cursor: pointer;\n",
              "      display: none;\n",
              "      fill: #1967D2;\n",
              "      height: 32px;\n",
              "      padding: 0 0 0 0;\n",
              "      width: 32px;\n",
              "    }\n",
              "\n",
              "    .colab-df-convert:hover {\n",
              "      background-color: #E2EBFA;\n",
              "      box-shadow: 0px 1px 2px rgba(60, 64, 67, 0.3), 0px 1px 3px 1px rgba(60, 64, 67, 0.15);\n",
              "      fill: #174EA6;\n",
              "    }\n",
              "\n",
              "    [theme=dark] .colab-df-convert {\n",
              "      background-color: #3B4455;\n",
              "      fill: #D2E3FC;\n",
              "    }\n",
              "\n",
              "    [theme=dark] .colab-df-convert:hover {\n",
              "      background-color: #434B5C;\n",
              "      box-shadow: 0px 1px 3px 1px rgba(0, 0, 0, 0.15);\n",
              "      filter: drop-shadow(0px 1px 2px rgba(0, 0, 0, 0.3));\n",
              "      fill: #FFFFFF;\n",
              "    }\n",
              "  </style>\n",
              "\n",
              "      <script>\n",
              "        const buttonEl =\n",
              "          document.querySelector('#df-ec4a4128-9c2b-409b-b1ee-88b187a95c27 button.colab-df-convert');\n",
              "        buttonEl.style.display =\n",
              "          google.colab.kernel.accessAllowed ? 'block' : 'none';\n",
              "\n",
              "        async function convertToInteractive(key) {\n",
              "          const element = document.querySelector('#df-ec4a4128-9c2b-409b-b1ee-88b187a95c27');\n",
              "          const dataTable =\n",
              "            await google.colab.kernel.invokeFunction('convertToInteractive',\n",
              "                                                     [key], {});\n",
              "          if (!dataTable) return;\n",
              "\n",
              "          const docLinkHtml = 'Like what you see? Visit the ' +\n",
              "            '<a target=\"_blank\" href=https://colab.research.google.com/notebooks/data_table.ipynb>data table notebook</a>'\n",
              "            + ' to learn more about interactive tables.';\n",
              "          element.innerHTML = '';\n",
              "          dataTable['output_type'] = 'display_data';\n",
              "          await google.colab.output.renderOutput(dataTable, element);\n",
              "          const docLink = document.createElement('div');\n",
              "          docLink.innerHTML = docLinkHtml;\n",
              "          element.appendChild(docLink);\n",
              "        }\n",
              "      </script>\n",
              "    </div>\n",
              "  </div>\n",
              "  "
            ]
          },
          "metadata": {},
          "execution_count": 7
        }
      ]
    },
    {
      "cell_type": "code",
      "source": [
        "GDPPCMod = SDGData.loc[SDGData['econ_cat'] != 'Others', ['year','econ_cat', 'GDP_PC_PPP','CO2GDP' ]].dropna()\n",
        "GDPPCMod['pa_clim_acc'] = 0\n",
        "GDPPCMod['pa_clim_acc'] = GDPPCMod.pa_clim_acc.where(GDPPCMod.year>2015,1)\n",
        "\n",
        "conditions = [\n",
        "    (GDPPCMod['econ_cat'] == 'Developed')]\n",
        "\n",
        "choices = [0]\n",
        "GDPPCMod['econ_cat'] = np.select(conditions, choices, default=1)"
      ],
      "metadata": {
        "id": "aLmcdyCg6e_2"
      },
      "execution_count": 13,
      "outputs": []
    },
    {
      "cell_type": "code",
      "source": [
        "model = 'GDP_PC_PPP ~ CO2GDP + year + econ_cat + pa_clim_acc + econ_cat * pa_clim_acc'\n",
        "\n",
        "GDPPC_Model = smf.ols(formula=model, data=GDPPCMod)\n",
        "GDPPC_Mod_result = GDPPC_Model.fit()\n",
        "\n",
        "\n",
        "print(GDPPC_Mod_result.summary())"
      ],
      "metadata": {
        "colab": {
          "base_uri": "https://localhost:8080/"
        },
        "id": "9qx9EkRLF8j4",
        "outputId": "07dfc10d-5ad8-45c6-cd29-fb9fce14d842"
      },
      "execution_count": 14,
      "outputs": [
        {
          "output_type": "stream",
          "name": "stdout",
          "text": [
            "                            OLS Regression Results                            \n",
            "==============================================================================\n",
            "Dep. Variable:             GDP_PC_PPP   R-squared:                       0.997\n",
            "Model:                            OLS   Adj. R-squared:                  0.996\n",
            "Method:                 Least Squares   F-statistic:                     1283.\n",
            "Date:                Wed, 11 May 2022   Prob (F-statistic):           2.37e-24\n",
            "Time:                        08:09:42   Log-Likelihood:                -203.94\n",
            "No. Observations:                  26   AIC:                             419.9\n",
            "Df Residuals:                      20   BIC:                             427.4\n",
            "Df Model:                           5                                         \n",
            "Covariance Type:            nonrobust                                         \n",
            "========================================================================================\n",
            "                           coef    std err          t      P>|t|      [0.025      0.975]\n",
            "----------------------------------------------------------------------------------------\n",
            "Intercept            -2.608e+05    1.4e+05     -1.861      0.078   -5.53e+05    3.16e+04\n",
            "CO2GDP               -1.421e+05   1.37e+04    -10.388      0.000   -1.71e+05   -1.14e+05\n",
            "year                   162.6057     68.389      2.378      0.028      19.949     305.263\n",
            "econ_cat             -2.022e+04    705.584    -28.650      0.000   -2.17e+04   -1.87e+04\n",
            "pa_clim_acc          -2139.4676    577.782     -3.703      0.001   -3344.700    -934.235\n",
            "econ_cat:pa_clim_acc  4251.8178    815.927      5.211      0.000    2549.825    5953.811\n",
            "==============================================================================\n",
            "Omnibus:                       10.240   Durbin-Watson:                   1.778\n",
            "Prob(Omnibus):                  0.006   Jarque-Bera (JB):                8.583\n",
            "Skew:                          -1.141   Prob(JB):                       0.0137\n",
            "Kurtosis:                       4.647   Cond. No.                     2.05e+06\n",
            "==============================================================================\n",
            "\n",
            "Warnings:\n",
            "[1] Standard Errors assume that the covariance matrix of the errors is correctly specified.\n",
            "[2] The condition number is large, 2.05e+06. This might indicate that there are\n",
            "strong multicollinearity or other numerical problems.\n"
          ]
        }
      ]
    },
    {
      "cell_type": "code",
      "source": [
        "print(GDPPC_Mod_result.summary().as_latex())"
      ],
      "metadata": {
        "colab": {
          "base_uri": "https://localhost:8080/"
        },
        "id": "D9GazwA0_R--",
        "outputId": "1a9b867f-8979-460c-9a79-18aafd4fa724"
      },
      "execution_count": 15,
      "outputs": [
        {
          "output_type": "stream",
          "name": "stdout",
          "text": [
            "\\begin{center}\n",
            "\\begin{tabular}{lclc}\n",
            "\\toprule\n",
            "\\textbf{Dep. Variable:}          &   GDP\\_PC\\_PPP   & \\textbf{  R-squared:         } &     0.997   \\\\\n",
            "\\textbf{Model:}                  &       OLS        & \\textbf{  Adj. R-squared:    } &     0.996   \\\\\n",
            "\\textbf{Method:}                 &  Least Squares   & \\textbf{  F-statistic:       } &     1283.   \\\\\n",
            "\\textbf{Date:}                   & Wed, 11 May 2022 & \\textbf{  Prob (F-statistic):} &  2.37e-24   \\\\\n",
            "\\textbf{Time:}                   &     08:09:55     & \\textbf{  Log-Likelihood:    } &   -203.94   \\\\\n",
            "\\textbf{No. Observations:}       &          26      & \\textbf{  AIC:               } &     419.9   \\\\\n",
            "\\textbf{Df Residuals:}           &          20      & \\textbf{  BIC:               } &     427.4   \\\\\n",
            "\\textbf{Df Model:}               &           5      & \\textbf{                     } &             \\\\\n",
            "\\bottomrule\n",
            "\\end{tabular}\n",
            "\\begin{tabular}{lcccccc}\n",
            "                                 & \\textbf{coef} & \\textbf{std err} & \\textbf{t} & \\textbf{P$> |$t$|$} & \\textbf{[0.025} & \\textbf{0.975]}  \\\\\n",
            "\\midrule\n",
            "\\textbf{Intercept}               &   -2.608e+05  &      1.4e+05     &    -1.861  &         0.078        &    -5.53e+05    &     3.16e+04     \\\\\n",
            "\\textbf{CO2GDP}                  &   -1.421e+05  &     1.37e+04     &   -10.388  &         0.000        &    -1.71e+05    &    -1.14e+05     \\\\\n",
            "\\textbf{year}                    &     162.6057  &       68.389     &     2.378  &         0.028        &       19.949    &      305.263     \\\\\n",
            "\\textbf{econ\\_cat}               &   -2.022e+04  &      705.584     &   -28.650  &         0.000        &    -2.17e+04    &    -1.87e+04     \\\\\n",
            "\\textbf{pa\\_clim\\_acc}           &   -2139.4676  &      577.782     &    -3.703  &         0.001        &    -3344.700    &     -934.235     \\\\\n",
            "\\textbf{econ\\_cat:pa\\_clim\\_acc} &    4251.8178  &      815.927     &     5.211  &         0.000        &     2549.825    &     5953.811     \\\\\n",
            "\\bottomrule\n",
            "\\end{tabular}\n",
            "\\begin{tabular}{lclc}\n",
            "\\textbf{Omnibus:}       & 10.240 & \\textbf{  Durbin-Watson:     } &    1.778  \\\\\n",
            "\\textbf{Prob(Omnibus):} &  0.006 & \\textbf{  Jarque-Bera (JB):  } &    8.583  \\\\\n",
            "\\textbf{Skew:}          & -1.141 & \\textbf{  Prob(JB):          } &   0.0137  \\\\\n",
            "\\textbf{Kurtosis:}      &  4.647 & \\textbf{  Cond. No.          } & 2.05e+06  \\\\\n",
            "\\bottomrule\n",
            "\\end{tabular}\n",
            "%\\caption{OLS Regression Results}\n",
            "\\end{center}\n",
            "\n",
            "Warnings: \\newline\n",
            " [1] Standard Errors assume that the covariance matrix of the errors is correctly specified. \\newline\n",
            " [2] The condition number is large, 2.05e+06. This might indicate that there are \\newline\n",
            " strong multicollinearity or other numerical problems.\n"
          ]
        }
      ]
    },
    {
      "cell_type": "markdown",
      "source": [
        "# Difference-in Difference on CO2GDP"
      ],
      "metadata": {
        "id": "Ie1--6nFG5W8"
      }
    },
    {
      "cell_type": "code",
      "source": [
        "CO2GDP_Mod = SDGData[SDGData['econ_cat'] != 'Others']\n",
        "CO2GDP_Mod = CO2GDP_Mod[['year','econ_cat', 'CO2GDP', 'GDP_PEMP']].set_index(['year','econ_cat']).unstack('econ_cat').dropna()\n",
        "CO2GDP_Mod['pa_clim_acc'] = 0\n",
        "CO2GDP_Mod['pa_clim_acc'] = CO2GDP_Mod.pa_clim_acc.where(CO2GDP_Mod.index>2015,1)"
      ],
      "metadata": {
        "id": "G7qarVE5G5XK"
      },
      "execution_count": 21,
      "outputs": []
    },
    {
      "cell_type": "code",
      "source": [
        "group_mean_check = CO2GDP_Mod.groupby('pa_clim_acc').mean()\n",
        "group_mean_check"
      ],
      "metadata": {
        "colab": {
          "base_uri": "https://localhost:8080/",
          "height": 0
        },
        "outputId": "84593126-9f6f-4e2b-beec-c03c34e2af66",
        "id": "foEF1DjCG5XL"
      },
      "execution_count": 22,
      "outputs": [
        {
          "output_type": "execute_result",
          "data": {
            "text/plain": [
              "               CO2GDP                 GDP_PEMP              \n",
              "econ_cat    Developed Developing     Developed    Developing\n",
              "pa_clim_acc                                                 \n",
              "0            0.176764   0.213342  91102.582500  38284.192500\n",
              "1            0.243290   0.239281  82942.317778  34464.574444"
            ],
            "text/html": [
              "\n",
              "  <div id=\"df-6dfc5614-5edd-4c4a-9e84-add6907b9da1\">\n",
              "    <div class=\"colab-df-container\">\n",
              "      <div>\n",
              "<style scoped>\n",
              "    .dataframe tbody tr th:only-of-type {\n",
              "        vertical-align: middle;\n",
              "    }\n",
              "\n",
              "    .dataframe tbody tr th {\n",
              "        vertical-align: top;\n",
              "    }\n",
              "\n",
              "    .dataframe thead tr th {\n",
              "        text-align: left;\n",
              "    }\n",
              "\n",
              "    .dataframe thead tr:last-of-type th {\n",
              "        text-align: right;\n",
              "    }\n",
              "</style>\n",
              "<table border=\"1\" class=\"dataframe\">\n",
              "  <thead>\n",
              "    <tr>\n",
              "      <th></th>\n",
              "      <th colspan=\"2\" halign=\"left\">CO2GDP</th>\n",
              "      <th colspan=\"2\" halign=\"left\">GDP_PEMP</th>\n",
              "    </tr>\n",
              "    <tr>\n",
              "      <th>econ_cat</th>\n",
              "      <th>Developed</th>\n",
              "      <th>Developing</th>\n",
              "      <th>Developed</th>\n",
              "      <th>Developing</th>\n",
              "    </tr>\n",
              "    <tr>\n",
              "      <th>pa_clim_acc</th>\n",
              "      <th></th>\n",
              "      <th></th>\n",
              "      <th></th>\n",
              "      <th></th>\n",
              "    </tr>\n",
              "  </thead>\n",
              "  <tbody>\n",
              "    <tr>\n",
              "      <th>0</th>\n",
              "      <td>0.176764</td>\n",
              "      <td>0.213342</td>\n",
              "      <td>91102.582500</td>\n",
              "      <td>38284.192500</td>\n",
              "    </tr>\n",
              "    <tr>\n",
              "      <th>1</th>\n",
              "      <td>0.243290</td>\n",
              "      <td>0.239281</td>\n",
              "      <td>82942.317778</td>\n",
              "      <td>34464.574444</td>\n",
              "    </tr>\n",
              "  </tbody>\n",
              "</table>\n",
              "</div>\n",
              "      <button class=\"colab-df-convert\" onclick=\"convertToInteractive('df-6dfc5614-5edd-4c4a-9e84-add6907b9da1')\"\n",
              "              title=\"Convert this dataframe to an interactive table.\"\n",
              "              style=\"display:none;\">\n",
              "        \n",
              "  <svg xmlns=\"http://www.w3.org/2000/svg\" height=\"24px\"viewBox=\"0 0 24 24\"\n",
              "       width=\"24px\">\n",
              "    <path d=\"M0 0h24v24H0V0z\" fill=\"none\"/>\n",
              "    <path d=\"M18.56 5.44l.94 2.06.94-2.06 2.06-.94-2.06-.94-.94-2.06-.94 2.06-2.06.94zm-11 1L8.5 8.5l.94-2.06 2.06-.94-2.06-.94L8.5 2.5l-.94 2.06-2.06.94zm10 10l.94 2.06.94-2.06 2.06-.94-2.06-.94-.94-2.06-.94 2.06-2.06.94z\"/><path d=\"M17.41 7.96l-1.37-1.37c-.4-.4-.92-.59-1.43-.59-.52 0-1.04.2-1.43.59L10.3 9.45l-7.72 7.72c-.78.78-.78 2.05 0 2.83L4 21.41c.39.39.9.59 1.41.59.51 0 1.02-.2 1.41-.59l7.78-7.78 2.81-2.81c.8-.78.8-2.07 0-2.86zM5.41 20L4 18.59l7.72-7.72 1.47 1.35L5.41 20z\"/>\n",
              "  </svg>\n",
              "      </button>\n",
              "      \n",
              "  <style>\n",
              "    .colab-df-container {\n",
              "      display:flex;\n",
              "      flex-wrap:wrap;\n",
              "      gap: 12px;\n",
              "    }\n",
              "\n",
              "    .colab-df-convert {\n",
              "      background-color: #E8F0FE;\n",
              "      border: none;\n",
              "      border-radius: 50%;\n",
              "      cursor: pointer;\n",
              "      display: none;\n",
              "      fill: #1967D2;\n",
              "      height: 32px;\n",
              "      padding: 0 0 0 0;\n",
              "      width: 32px;\n",
              "    }\n",
              "\n",
              "    .colab-df-convert:hover {\n",
              "      background-color: #E2EBFA;\n",
              "      box-shadow: 0px 1px 2px rgba(60, 64, 67, 0.3), 0px 1px 3px 1px rgba(60, 64, 67, 0.15);\n",
              "      fill: #174EA6;\n",
              "    }\n",
              "\n",
              "    [theme=dark] .colab-df-convert {\n",
              "      background-color: #3B4455;\n",
              "      fill: #D2E3FC;\n",
              "    }\n",
              "\n",
              "    [theme=dark] .colab-df-convert:hover {\n",
              "      background-color: #434B5C;\n",
              "      box-shadow: 0px 1px 3px 1px rgba(0, 0, 0, 0.15);\n",
              "      filter: drop-shadow(0px 1px 2px rgba(0, 0, 0, 0.3));\n",
              "      fill: #FFFFFF;\n",
              "    }\n",
              "  </style>\n",
              "\n",
              "      <script>\n",
              "        const buttonEl =\n",
              "          document.querySelector('#df-6dfc5614-5edd-4c4a-9e84-add6907b9da1 button.colab-df-convert');\n",
              "        buttonEl.style.display =\n",
              "          google.colab.kernel.accessAllowed ? 'block' : 'none';\n",
              "\n",
              "        async function convertToInteractive(key) {\n",
              "          const element = document.querySelector('#df-6dfc5614-5edd-4c4a-9e84-add6907b9da1');\n",
              "          const dataTable =\n",
              "            await google.colab.kernel.invokeFunction('convertToInteractive',\n",
              "                                                     [key], {});\n",
              "          if (!dataTable) return;\n",
              "\n",
              "          const docLinkHtml = 'Like what you see? Visit the ' +\n",
              "            '<a target=\"_blank\" href=https://colab.research.google.com/notebooks/data_table.ipynb>data table notebook</a>'\n",
              "            + ' to learn more about interactive tables.';\n",
              "          element.innerHTML = '';\n",
              "          dataTable['output_type'] = 'display_data';\n",
              "          await google.colab.output.renderOutput(dataTable, element);\n",
              "          const docLink = document.createElement('div');\n",
              "          docLink.innerHTML = docLinkHtml;\n",
              "          element.appendChild(docLink);\n",
              "        }\n",
              "      </script>\n",
              "    </div>\n",
              "  </div>\n",
              "  "
            ]
          },
          "metadata": {},
          "execution_count": 22
        }
      ]
    },
    {
      "cell_type": "code",
      "source": [
        "CO2GDP_Mod = SDGData.loc[SDGData['econ_cat'] != 'Others', ['year','econ_cat', 'CO2GDP','GDP_PEMP']].dropna()\n",
        "CO2GDP_Mod['pa_clim_acc'] = 0\n",
        "CO2GDP_Mod['pa_clim_acc'] = CO2GDP_Mod.pa_clim_acc.where(GDPPCMod.year>2015,1)\n",
        "\n",
        "conditions = [\n",
        "    (CO2GDP_Mod['econ_cat'] == 'Developed')]\n",
        "\n",
        "choices = [0]\n",
        "CO2GDP_Mod['econ_cat'] = np.select(conditions, choices, default=1)"
      ],
      "metadata": {
        "id": "SAYIrLG2G5XM"
      },
      "execution_count": 24,
      "outputs": []
    },
    {
      "cell_type": "code",
      "source": [
        "model = 'GDP_PEMP ~ CO2GDP + year + econ_cat + pa_clim_acc + econ_cat * pa_clim_acc'\n",
        "\n",
        "CO2GDP_Model = smf.ols(formula=model, data=CO2GDP_Mod)\n",
        "CO2GDP_Mod_reults = CO2GDP_Model.fit()\n",
        "\n",
        "\n",
        "print(CO2GDP_Mod_reults.summary())"
      ],
      "metadata": {
        "colab": {
          "base_uri": "https://localhost:8080/"
        },
        "outputId": "c1329d48-ad3e-4e12-a4e3-28660e12ece1",
        "id": "e3BJVt5XG5XM"
      },
      "execution_count": 25,
      "outputs": [
        {
          "output_type": "stream",
          "name": "stdout",
          "text": [
            "                            OLS Regression Results                            \n",
            "==============================================================================\n",
            "Dep. Variable:               GDP_PEMP   R-squared:                       0.999\n",
            "Model:                            OLS   Adj. R-squared:                  0.999\n",
            "Method:                 Least Squares   F-statistic:                     6077.\n",
            "Date:                Wed, 11 May 2022   Prob (F-statistic):           4.30e-31\n",
            "Time:                        08:28:25   Log-Likelihood:                -205.20\n",
            "No. Observations:                  26   AIC:                             422.4\n",
            "Df Residuals:                      20   BIC:                             429.9\n",
            "Df Model:                           5                                         \n",
            "Covariance Type:            nonrobust                                         \n",
            "========================================================================================\n",
            "                           coef    std err          t      P>|t|      [0.025      0.975]\n",
            "----------------------------------------------------------------------------------------\n",
            "Intercept            -3.132e+05   1.47e+05     -2.129      0.046    -6.2e+05   -6265.156\n",
            "CO2GDP                -8.33e+04   1.44e+04     -5.802      0.000   -1.13e+05   -5.33e+04\n",
            "year                   207.6724     71.783      2.893      0.009      57.936     357.408\n",
            "econ_cat             -4.977e+04    740.597    -67.204      0.000   -5.13e+04   -4.82e+04\n",
            "pa_clim_acc           -299.6750    606.453     -0.494      0.627   -1564.714     965.364\n",
            "econ_cat:pa_clim_acc   959.7292    856.415      1.121      0.276    -826.722    2746.180\n",
            "==============================================================================\n",
            "Omnibus:                        6.613   Durbin-Watson:                   0.875\n",
            "Prob(Omnibus):                  0.037   Jarque-Bera (JB):                6.403\n",
            "Skew:                           0.450   Prob(JB):                       0.0407\n",
            "Kurtosis:                       5.258   Cond. No.                     2.05e+06\n",
            "==============================================================================\n",
            "\n",
            "Warnings:\n",
            "[1] Standard Errors assume that the covariance matrix of the errors is correctly specified.\n",
            "[2] The condition number is large, 2.05e+06. This might indicate that there are\n",
            "strong multicollinearity or other numerical problems.\n"
          ]
        }
      ]
    },
    {
      "cell_type": "code",
      "source": [
        "print(CO2GDP_Mod_reults.summary().as_latex())"
      ],
      "metadata": {
        "colab": {
          "base_uri": "https://localhost:8080/"
        },
        "id": "mvY5GTBq_Nah",
        "outputId": "33cb43a1-ccbf-4302-a663-6775cae4e7d1"
      },
      "execution_count": 26,
      "outputs": [
        {
          "output_type": "stream",
          "name": "stdout",
          "text": [
            "\\begin{center}\n",
            "\\begin{tabular}{lclc}\n",
            "\\toprule\n",
            "\\textbf{Dep. Variable:}          &    GDP\\_PEMP     & \\textbf{  R-squared:         } &     0.999   \\\\\n",
            "\\textbf{Model:}                  &       OLS        & \\textbf{  Adj. R-squared:    } &     0.999   \\\\\n",
            "\\textbf{Method:}                 &  Least Squares   & \\textbf{  F-statistic:       } &     6077.   \\\\\n",
            "\\textbf{Date:}                   & Wed, 11 May 2022 & \\textbf{  Prob (F-statistic):} &  4.30e-31   \\\\\n",
            "\\textbf{Time:}                   &     08:29:01     & \\textbf{  Log-Likelihood:    } &   -205.20   \\\\\n",
            "\\textbf{No. Observations:}       &          26      & \\textbf{  AIC:               } &     422.4   \\\\\n",
            "\\textbf{Df Residuals:}           &          20      & \\textbf{  BIC:               } &     429.9   \\\\\n",
            "\\textbf{Df Model:}               &           5      & \\textbf{                     } &             \\\\\n",
            "\\bottomrule\n",
            "\\end{tabular}\n",
            "\\begin{tabular}{lcccccc}\n",
            "                                 & \\textbf{coef} & \\textbf{std err} & \\textbf{t} & \\textbf{P$> |$t$|$} & \\textbf{[0.025} & \\textbf{0.975]}  \\\\\n",
            "\\midrule\n",
            "\\textbf{Intercept}               &   -3.132e+05  &     1.47e+05     &    -2.129  &         0.046        &     -6.2e+05    &    -6265.156     \\\\\n",
            "\\textbf{CO2GDP}                  &    -8.33e+04  &     1.44e+04     &    -5.802  &         0.000        &    -1.13e+05    &    -5.33e+04     \\\\\n",
            "\\textbf{year}                    &     207.6724  &       71.783     &     2.893  &         0.009        &       57.936    &      357.408     \\\\\n",
            "\\textbf{econ\\_cat}               &   -4.977e+04  &      740.597     &   -67.204  &         0.000        &    -5.13e+04    &    -4.82e+04     \\\\\n",
            "\\textbf{pa\\_clim\\_acc}           &    -299.6750  &      606.453     &    -0.494  &         0.627        &    -1564.714    &      965.364     \\\\\n",
            "\\textbf{econ\\_cat:pa\\_clim\\_acc} &     959.7292  &      856.415     &     1.121  &         0.276        &     -826.722    &     2746.180     \\\\\n",
            "\\bottomrule\n",
            "\\end{tabular}\n",
            "\\begin{tabular}{lclc}\n",
            "\\textbf{Omnibus:}       &  6.613 & \\textbf{  Durbin-Watson:     } &    0.875  \\\\\n",
            "\\textbf{Prob(Omnibus):} &  0.037 & \\textbf{  Jarque-Bera (JB):  } &    6.403  \\\\\n",
            "\\textbf{Skew:}          &  0.450 & \\textbf{  Prob(JB):          } &   0.0407  \\\\\n",
            "\\textbf{Kurtosis:}      &  5.258 & \\textbf{  Cond. No.          } & 2.05e+06  \\\\\n",
            "\\bottomrule\n",
            "\\end{tabular}\n",
            "%\\caption{OLS Regression Results}\n",
            "\\end{center}\n",
            "\n",
            "Warnings: \\newline\n",
            " [1] Standard Errors assume that the covariance matrix of the errors is correctly specified. \\newline\n",
            " [2] The condition number is large, 2.05e+06. This might indicate that there are \\newline\n",
            " strong multicollinearity or other numerical problems.\n"
          ]
        }
      ]
    },
    {
      "cell_type": "markdown",
      "source": [
        "# Difference-in Difference on AtmCO2"
      ],
      "metadata": {
        "id": "RKTpCC5fKuso"
      }
    },
    {
      "cell_type": "code",
      "source": [
        "AtmCO2_Mod = SDGData[SDGData['econ_cat'] != 'Others']\n",
        "AtmCO2_Mod = AtmCO2_Mod[['year','econ_cat', 'AtmCO2']].set_index(['year','econ_cat']).unstack('econ_cat').dropna()\n",
        "AtmCO2_Mod['pa_clim_acc'] = 0\n",
        "AtmCO2_Mod['pa_clim_acc'] = AtmCO2_Mod.pa_clim_acc.where(AtmCO2_Mod.index>2015,1)"
      ],
      "metadata": {
        "id": "7zn-Ydt8Kusp"
      },
      "execution_count": 27,
      "outputs": []
    },
    {
      "cell_type": "code",
      "source": [
        "group_mean_check = AtmCO2_Mod.groupby('pa_clim_acc').mean()\n",
        "group_mean_check"
      ],
      "metadata": {
        "colab": {
          "base_uri": "https://localhost:8080/",
          "height": 175
        },
        "outputId": "eb087788-9508-47e7-9e8e-908c732f6546",
        "id": "kHXPABemKusp"
      },
      "execution_count": 28,
      "outputs": [
        {
          "output_type": "execute_result",
          "data": {
            "text/plain": [
              "               AtmCO2           \n",
              "econ_cat    Developed Developing\n",
              "pa_clim_acc                     \n",
              "0            0.239847   0.544637\n",
              "1            0.355847   0.597119"
            ],
            "text/html": [
              "\n",
              "  <div id=\"df-a80e4a04-6567-449f-8b48-824f1d3751f8\">\n",
              "    <div class=\"colab-df-container\">\n",
              "      <div>\n",
              "<style scoped>\n",
              "    .dataframe tbody tr th:only-of-type {\n",
              "        vertical-align: middle;\n",
              "    }\n",
              "\n",
              "    .dataframe tbody tr th {\n",
              "        vertical-align: top;\n",
              "    }\n",
              "\n",
              "    .dataframe thead tr th {\n",
              "        text-align: left;\n",
              "    }\n",
              "\n",
              "    .dataframe thead tr:last-of-type th {\n",
              "        text-align: right;\n",
              "    }\n",
              "</style>\n",
              "<table border=\"1\" class=\"dataframe\">\n",
              "  <thead>\n",
              "    <tr>\n",
              "      <th></th>\n",
              "      <th colspan=\"2\" halign=\"left\">AtmCO2</th>\n",
              "    </tr>\n",
              "    <tr>\n",
              "      <th>econ_cat</th>\n",
              "      <th>Developed</th>\n",
              "      <th>Developing</th>\n",
              "    </tr>\n",
              "    <tr>\n",
              "      <th>pa_clim_acc</th>\n",
              "      <th></th>\n",
              "      <th></th>\n",
              "    </tr>\n",
              "  </thead>\n",
              "  <tbody>\n",
              "    <tr>\n",
              "      <th>0</th>\n",
              "      <td>0.239847</td>\n",
              "      <td>0.544637</td>\n",
              "    </tr>\n",
              "    <tr>\n",
              "      <th>1</th>\n",
              "      <td>0.355847</td>\n",
              "      <td>0.597119</td>\n",
              "    </tr>\n",
              "  </tbody>\n",
              "</table>\n",
              "</div>\n",
              "      <button class=\"colab-df-convert\" onclick=\"convertToInteractive('df-a80e4a04-6567-449f-8b48-824f1d3751f8')\"\n",
              "              title=\"Convert this dataframe to an interactive table.\"\n",
              "              style=\"display:none;\">\n",
              "        \n",
              "  <svg xmlns=\"http://www.w3.org/2000/svg\" height=\"24px\"viewBox=\"0 0 24 24\"\n",
              "       width=\"24px\">\n",
              "    <path d=\"M0 0h24v24H0V0z\" fill=\"none\"/>\n",
              "    <path d=\"M18.56 5.44l.94 2.06.94-2.06 2.06-.94-2.06-.94-.94-2.06-.94 2.06-2.06.94zm-11 1L8.5 8.5l.94-2.06 2.06-.94-2.06-.94L8.5 2.5l-.94 2.06-2.06.94zm10 10l.94 2.06.94-2.06 2.06-.94-2.06-.94-.94-2.06-.94 2.06-2.06.94z\"/><path d=\"M17.41 7.96l-1.37-1.37c-.4-.4-.92-.59-1.43-.59-.52 0-1.04.2-1.43.59L10.3 9.45l-7.72 7.72c-.78.78-.78 2.05 0 2.83L4 21.41c.39.39.9.59 1.41.59.51 0 1.02-.2 1.41-.59l7.78-7.78 2.81-2.81c.8-.78.8-2.07 0-2.86zM5.41 20L4 18.59l7.72-7.72 1.47 1.35L5.41 20z\"/>\n",
              "  </svg>\n",
              "      </button>\n",
              "      \n",
              "  <style>\n",
              "    .colab-df-container {\n",
              "      display:flex;\n",
              "      flex-wrap:wrap;\n",
              "      gap: 12px;\n",
              "    }\n",
              "\n",
              "    .colab-df-convert {\n",
              "      background-color: #E8F0FE;\n",
              "      border: none;\n",
              "      border-radius: 50%;\n",
              "      cursor: pointer;\n",
              "      display: none;\n",
              "      fill: #1967D2;\n",
              "      height: 32px;\n",
              "      padding: 0 0 0 0;\n",
              "      width: 32px;\n",
              "    }\n",
              "\n",
              "    .colab-df-convert:hover {\n",
              "      background-color: #E2EBFA;\n",
              "      box-shadow: 0px 1px 2px rgba(60, 64, 67, 0.3), 0px 1px 3px 1px rgba(60, 64, 67, 0.15);\n",
              "      fill: #174EA6;\n",
              "    }\n",
              "\n",
              "    [theme=dark] .colab-df-convert {\n",
              "      background-color: #3B4455;\n",
              "      fill: #D2E3FC;\n",
              "    }\n",
              "\n",
              "    [theme=dark] .colab-df-convert:hover {\n",
              "      background-color: #434B5C;\n",
              "      box-shadow: 0px 1px 3px 1px rgba(0, 0, 0, 0.15);\n",
              "      filter: drop-shadow(0px 1px 2px rgba(0, 0, 0, 0.3));\n",
              "      fill: #FFFFFF;\n",
              "    }\n",
              "  </style>\n",
              "\n",
              "      <script>\n",
              "        const buttonEl =\n",
              "          document.querySelector('#df-a80e4a04-6567-449f-8b48-824f1d3751f8 button.colab-df-convert');\n",
              "        buttonEl.style.display =\n",
              "          google.colab.kernel.accessAllowed ? 'block' : 'none';\n",
              "\n",
              "        async function convertToInteractive(key) {\n",
              "          const element = document.querySelector('#df-a80e4a04-6567-449f-8b48-824f1d3751f8');\n",
              "          const dataTable =\n",
              "            await google.colab.kernel.invokeFunction('convertToInteractive',\n",
              "                                                     [key], {});\n",
              "          if (!dataTable) return;\n",
              "\n",
              "          const docLinkHtml = 'Like what you see? Visit the ' +\n",
              "            '<a target=\"_blank\" href=https://colab.research.google.com/notebooks/data_table.ipynb>data table notebook</a>'\n",
              "            + ' to learn more about interactive tables.';\n",
              "          element.innerHTML = '';\n",
              "          dataTable['output_type'] = 'display_data';\n",
              "          await google.colab.output.renderOutput(dataTable, element);\n",
              "          const docLink = document.createElement('div');\n",
              "          docLink.innerHTML = docLinkHtml;\n",
              "          element.appendChild(docLink);\n",
              "        }\n",
              "      </script>\n",
              "    </div>\n",
              "  </div>\n",
              "  "
            ]
          },
          "metadata": {},
          "execution_count": 28
        }
      ]
    },
    {
      "cell_type": "code",
      "source": [
        "AtmCO2_Mod = SDGData.loc[SDGData['econ_cat'] != 'Others', ['year','econ_cat', 'GDP_PC_PPP', 'AtmCO2']].dropna()\n",
        "AtmCO2_Mod['pa_clim_acc'] = 0\n",
        "AtmCO2_Mod['pa_clim_acc'] = AtmCO2_Mod.pa_clim_acc.where(GDPPCMod.year>2015,1)\n",
        "\n",
        "conditions = [\n",
        "    (AtmCO2_Mod['econ_cat'] == 'Developed')]\n",
        "\n",
        "choices = [0]\n",
        "AtmCO2_Mod['econ_cat'] = np.select(conditions, choices, default=1)"
      ],
      "metadata": {
        "id": "ewXftiZcKusq"
      },
      "execution_count": 29,
      "outputs": []
    },
    {
      "cell_type": "code",
      "source": [
        "model = 'GDP_PC_PPP ~ AtmCO2 + year + econ_cat + pa_clim_acc + econ_cat * pa_clim_acc'\n",
        "\n",
        "AtmCO2_Model = smf.ols(formula=model, data=AtmCO2_Mod)\n",
        "AtmCO2_Mod_results = AtmCO2_Model.fit()\n",
        "\n",
        "\n",
        "print(AtmCO2_Mod_results.summary())"
      ],
      "metadata": {
        "colab": {
          "base_uri": "https://localhost:8080/"
        },
        "outputId": "651cd7be-a313-4dd7-ea3a-67266874c58b",
        "id": "NzMwO-e6Kusq"
      },
      "execution_count": 30,
      "outputs": [
        {
          "output_type": "stream",
          "name": "stdout",
          "text": [
            "                            OLS Regression Results                            \n",
            "==============================================================================\n",
            "Dep. Variable:             GDP_PC_PPP   R-squared:                       0.985\n",
            "Model:                            OLS   Adj. R-squared:                  0.982\n",
            "Method:                 Least Squares   F-statistic:                     271.4\n",
            "Date:                Wed, 11 May 2022   Prob (F-statistic):           1.16e-17\n",
            "Time:                        08:35:08   Log-Likelihood:                -223.99\n",
            "No. Observations:                  26   AIC:                             460.0\n",
            "Df Residuals:                      20   BIC:                             467.5\n",
            "Df Model:                           5                                         \n",
            "Covariance Type:            nonrobust                                         \n",
            "========================================================================================\n",
            "                           coef    std err          t      P>|t|      [0.025      0.975]\n",
            "----------------------------------------------------------------------------------------\n",
            "Intercept             -2.81e+05   4.96e+05     -0.566      0.577   -1.32e+06    7.54e+05\n",
            "AtmCO2                -4.27e+04   1.57e+04     -2.713      0.013   -7.55e+04   -9869.373\n",
            "year                   165.2362    244.050      0.677      0.506    -343.842     674.315\n",
            "econ_cat              -1.24e+04   4915.893     -2.522      0.020   -2.27e+04   -2144.689\n",
            "pa_clim_acc          -5092.6215   1181.436     -4.311      0.000   -7557.053   -2628.190\n",
            "econ_cat:pa_clim_acc  6726.8443   1773.159      3.794      0.001    3028.100    1.04e+04\n",
            "==============================================================================\n",
            "Omnibus:                        1.509   Durbin-Watson:                   1.070\n",
            "Prob(Omnibus):                  0.470   Jarque-Bera (JB):                0.962\n",
            "Skew:                           0.019   Prob(JB):                        0.618\n",
            "Kurtosis:                       2.059   Cond. No.                     3.34e+06\n",
            "==============================================================================\n",
            "\n",
            "Warnings:\n",
            "[1] Standard Errors assume that the covariance matrix of the errors is correctly specified.\n",
            "[2] The condition number is large, 3.34e+06. This might indicate that there are\n",
            "strong multicollinearity or other numerical problems.\n"
          ]
        }
      ]
    },
    {
      "cell_type": "code",
      "source": [
        "print(AtmCO2_Mod_results.summary().as_latex())"
      ],
      "metadata": {
        "colab": {
          "base_uri": "https://localhost:8080/"
        },
        "id": "i5mtUmGUMWr8",
        "outputId": "05eb4d1a-1712-479b-e3e8-9c2c73d7a72b"
      },
      "execution_count": 31,
      "outputs": [
        {
          "output_type": "stream",
          "name": "stdout",
          "text": [
            "\\begin{center}\n",
            "\\begin{tabular}{lclc}\n",
            "\\toprule\n",
            "\\textbf{Dep. Variable:}          &   GDP\\_PC\\_PPP   & \\textbf{  R-squared:         } &     0.985   \\\\\n",
            "\\textbf{Model:}                  &       OLS        & \\textbf{  Adj. R-squared:    } &     0.982   \\\\\n",
            "\\textbf{Method:}                 &  Least Squares   & \\textbf{  F-statistic:       } &     271.4   \\\\\n",
            "\\textbf{Date:}                   & Wed, 11 May 2022 & \\textbf{  Prob (F-statistic):} &  1.16e-17   \\\\\n",
            "\\textbf{Time:}                   &     08:35:20     & \\textbf{  Log-Likelihood:    } &   -223.99   \\\\\n",
            "\\textbf{No. Observations:}       &          26      & \\textbf{  AIC:               } &     460.0   \\\\\n",
            "\\textbf{Df Residuals:}           &          20      & \\textbf{  BIC:               } &     467.5   \\\\\n",
            "\\textbf{Df Model:}               &           5      & \\textbf{                     } &             \\\\\n",
            "\\bottomrule\n",
            "\\end{tabular}\n",
            "\\begin{tabular}{lcccccc}\n",
            "                                 & \\textbf{coef} & \\textbf{std err} & \\textbf{t} & \\textbf{P$> |$t$|$} & \\textbf{[0.025} & \\textbf{0.975]}  \\\\\n",
            "\\midrule\n",
            "\\textbf{Intercept}               &    -2.81e+05  &     4.96e+05     &    -0.566  &         0.577        &    -1.32e+06    &     7.54e+05     \\\\\n",
            "\\textbf{AtmCO2}                  &    -4.27e+04  &     1.57e+04     &    -2.713  &         0.013        &    -7.55e+04    &    -9869.373     \\\\\n",
            "\\textbf{year}                    &     165.2362  &      244.050     &     0.677  &         0.506        &     -343.842    &      674.315     \\\\\n",
            "\\textbf{econ\\_cat}               &    -1.24e+04  &     4915.893     &    -2.522  &         0.020        &    -2.27e+04    &    -2144.689     \\\\\n",
            "\\textbf{pa\\_clim\\_acc}           &   -5092.6215  &     1181.436     &    -4.311  &         0.000        &    -7557.053    &    -2628.190     \\\\\n",
            "\\textbf{econ\\_cat:pa\\_clim\\_acc} &    6726.8443  &     1773.159     &     3.794  &         0.001        &     3028.100    &     1.04e+04     \\\\\n",
            "\\bottomrule\n",
            "\\end{tabular}\n",
            "\\begin{tabular}{lclc}\n",
            "\\textbf{Omnibus:}       &  1.509 & \\textbf{  Durbin-Watson:     } &    1.070  \\\\\n",
            "\\textbf{Prob(Omnibus):} &  0.470 & \\textbf{  Jarque-Bera (JB):  } &    0.962  \\\\\n",
            "\\textbf{Skew:}          &  0.019 & \\textbf{  Prob(JB):          } &    0.618  \\\\\n",
            "\\textbf{Kurtosis:}      &  2.059 & \\textbf{  Cond. No.          } & 3.34e+06  \\\\\n",
            "\\bottomrule\n",
            "\\end{tabular}\n",
            "%\\caption{OLS Regression Results}\n",
            "\\end{center}\n",
            "\n",
            "Warnings: \\newline\n",
            " [1] Standard Errors assume that the covariance matrix of the errors is correctly specified. \\newline\n",
            " [2] The condition number is large, 3.34e+06. This might indicate that there are \\newline\n",
            " strong multicollinearity or other numerical problems.\n"
          ]
        }
      ]
    },
    {
      "cell_type": "code",
      "source": [
        ""
      ],
      "metadata": {
        "id": "WYHQOJwwMZCF"
      },
      "execution_count": 31,
      "outputs": []
    },
    {
      "cell_type": "markdown",
      "source": [
        "# Difference-in Difference on AtmCO2"
      ],
      "metadata": {
        "id": "LKSpgtVpRIzF"
      }
    },
    {
      "cell_type": "code",
      "source": [
        "AtmCO2_Mod = SDGData[SDGData['econ_cat'] != 'Others']\n",
        "AtmCO2_Mod = AtmCO2_Mod[['year','econ_cat', 'AtmCO2']].set_index(['year','econ_cat']).unstack('econ_cat').dropna()\n",
        "AtmCO2_Mod['pa_clim_acc'] = 0\n",
        "AtmCO2_Mod['pa_clim_acc'] = AtmCO2_Mod.pa_clim_acc.where(AtmCO2_Mod.index>2015,1)"
      ],
      "metadata": {
        "id": "pOYown0aRIzR"
      },
      "execution_count": null,
      "outputs": []
    },
    {
      "cell_type": "code",
      "source": [
        "group_mean_check = AtmCO2_Mod.groupby('pa_clim_acc').mean()\n",
        "group_mean_check"
      ],
      "metadata": {
        "colab": {
          "base_uri": "https://localhost:8080/",
          "height": 175
        },
        "outputId": "eb087788-9508-47e7-9e8e-908c732f6546",
        "id": "X2zpMFb_RIzS"
      },
      "execution_count": null,
      "outputs": [
        {
          "output_type": "execute_result",
          "data": {
            "text/plain": [
              "               AtmCO2           \n",
              "econ_cat    Developed Developing\n",
              "pa_clim_acc                     \n",
              "0            0.239847   0.544637\n",
              "1            0.355847   0.597119"
            ],
            "text/html": [
              "\n",
              "  <div id=\"df-a80e4a04-6567-449f-8b48-824f1d3751f8\">\n",
              "    <div class=\"colab-df-container\">\n",
              "      <div>\n",
              "<style scoped>\n",
              "    .dataframe tbody tr th:only-of-type {\n",
              "        vertical-align: middle;\n",
              "    }\n",
              "\n",
              "    .dataframe tbody tr th {\n",
              "        vertical-align: top;\n",
              "    }\n",
              "\n",
              "    .dataframe thead tr th {\n",
              "        text-align: left;\n",
              "    }\n",
              "\n",
              "    .dataframe thead tr:last-of-type th {\n",
              "        text-align: right;\n",
              "    }\n",
              "</style>\n",
              "<table border=\"1\" class=\"dataframe\">\n",
              "  <thead>\n",
              "    <tr>\n",
              "      <th></th>\n",
              "      <th colspan=\"2\" halign=\"left\">AtmCO2</th>\n",
              "    </tr>\n",
              "    <tr>\n",
              "      <th>econ_cat</th>\n",
              "      <th>Developed</th>\n",
              "      <th>Developing</th>\n",
              "    </tr>\n",
              "    <tr>\n",
              "      <th>pa_clim_acc</th>\n",
              "      <th></th>\n",
              "      <th></th>\n",
              "    </tr>\n",
              "  </thead>\n",
              "  <tbody>\n",
              "    <tr>\n",
              "      <th>0</th>\n",
              "      <td>0.239847</td>\n",
              "      <td>0.544637</td>\n",
              "    </tr>\n",
              "    <tr>\n",
              "      <th>1</th>\n",
              "      <td>0.355847</td>\n",
              "      <td>0.597119</td>\n",
              "    </tr>\n",
              "  </tbody>\n",
              "</table>\n",
              "</div>\n",
              "      <button class=\"colab-df-convert\" onclick=\"convertToInteractive('df-a80e4a04-6567-449f-8b48-824f1d3751f8')\"\n",
              "              title=\"Convert this dataframe to an interactive table.\"\n",
              "              style=\"display:none;\">\n",
              "        \n",
              "  <svg xmlns=\"http://www.w3.org/2000/svg\" height=\"24px\"viewBox=\"0 0 24 24\"\n",
              "       width=\"24px\">\n",
              "    <path d=\"M0 0h24v24H0V0z\" fill=\"none\"/>\n",
              "    <path d=\"M18.56 5.44l.94 2.06.94-2.06 2.06-.94-2.06-.94-.94-2.06-.94 2.06-2.06.94zm-11 1L8.5 8.5l.94-2.06 2.06-.94-2.06-.94L8.5 2.5l-.94 2.06-2.06.94zm10 10l.94 2.06.94-2.06 2.06-.94-2.06-.94-.94-2.06-.94 2.06-2.06.94z\"/><path d=\"M17.41 7.96l-1.37-1.37c-.4-.4-.92-.59-1.43-.59-.52 0-1.04.2-1.43.59L10.3 9.45l-7.72 7.72c-.78.78-.78 2.05 0 2.83L4 21.41c.39.39.9.59 1.41.59.51 0 1.02-.2 1.41-.59l7.78-7.78 2.81-2.81c.8-.78.8-2.07 0-2.86zM5.41 20L4 18.59l7.72-7.72 1.47 1.35L5.41 20z\"/>\n",
              "  </svg>\n",
              "      </button>\n",
              "      \n",
              "  <style>\n",
              "    .colab-df-container {\n",
              "      display:flex;\n",
              "      flex-wrap:wrap;\n",
              "      gap: 12px;\n",
              "    }\n",
              "\n",
              "    .colab-df-convert {\n",
              "      background-color: #E8F0FE;\n",
              "      border: none;\n",
              "      border-radius: 50%;\n",
              "      cursor: pointer;\n",
              "      display: none;\n",
              "      fill: #1967D2;\n",
              "      height: 32px;\n",
              "      padding: 0 0 0 0;\n",
              "      width: 32px;\n",
              "    }\n",
              "\n",
              "    .colab-df-convert:hover {\n",
              "      background-color: #E2EBFA;\n",
              "      box-shadow: 0px 1px 2px rgba(60, 64, 67, 0.3), 0px 1px 3px 1px rgba(60, 64, 67, 0.15);\n",
              "      fill: #174EA6;\n",
              "    }\n",
              "\n",
              "    [theme=dark] .colab-df-convert {\n",
              "      background-color: #3B4455;\n",
              "      fill: #D2E3FC;\n",
              "    }\n",
              "\n",
              "    [theme=dark] .colab-df-convert:hover {\n",
              "      background-color: #434B5C;\n",
              "      box-shadow: 0px 1px 3px 1px rgba(0, 0, 0, 0.15);\n",
              "      filter: drop-shadow(0px 1px 2px rgba(0, 0, 0, 0.3));\n",
              "      fill: #FFFFFF;\n",
              "    }\n",
              "  </style>\n",
              "\n",
              "      <script>\n",
              "        const buttonEl =\n",
              "          document.querySelector('#df-a80e4a04-6567-449f-8b48-824f1d3751f8 button.colab-df-convert');\n",
              "        buttonEl.style.display =\n",
              "          google.colab.kernel.accessAllowed ? 'block' : 'none';\n",
              "\n",
              "        async function convertToInteractive(key) {\n",
              "          const element = document.querySelector('#df-a80e4a04-6567-449f-8b48-824f1d3751f8');\n",
              "          const dataTable =\n",
              "            await google.colab.kernel.invokeFunction('convertToInteractive',\n",
              "                                                     [key], {});\n",
              "          if (!dataTable) return;\n",
              "\n",
              "          const docLinkHtml = 'Like what you see? Visit the ' +\n",
              "            '<a target=\"_blank\" href=https://colab.research.google.com/notebooks/data_table.ipynb>data table notebook</a>'\n",
              "            + ' to learn more about interactive tables.';\n",
              "          element.innerHTML = '';\n",
              "          dataTable['output_type'] = 'display_data';\n",
              "          await google.colab.output.renderOutput(dataTable, element);\n",
              "          const docLink = document.createElement('div');\n",
              "          docLink.innerHTML = docLinkHtml;\n",
              "          element.appendChild(docLink);\n",
              "        }\n",
              "      </script>\n",
              "    </div>\n",
              "  </div>\n",
              "  "
            ]
          },
          "metadata": {},
          "execution_count": 28
        }
      ]
    },
    {
      "cell_type": "code",
      "source": [
        "AtmCO2_Mod = SDGData.loc[SDGData['econ_cat'] != 'Others', ['year','econ_cat', 'GDP_PEMP', 'AtmCO2']].dropna()\n",
        "AtmCO2_Mod['pa_clim_acc'] = 0\n",
        "AtmCO2_Mod['pa_clim_acc'] = AtmCO2_Mod.pa_clim_acc.where(GDPPCMod.year>2015,1)\n",
        "\n",
        "conditions = [\n",
        "    (AtmCO2_Mod['econ_cat'] == 'Developed')]\n",
        "\n",
        "choices = [0]\n",
        "AtmCO2_Mod['econ_cat'] = np.select(conditions, choices, default=1)"
      ],
      "metadata": {
        "id": "NAWXINOMRIzS"
      },
      "execution_count": 32,
      "outputs": []
    },
    {
      "cell_type": "code",
      "source": [
        "model = 'GDP_PEMP ~ AtmCO2 + year + econ_cat + pa_clim_acc + econ_cat * pa_clim_acc'\n",
        "\n",
        "AtmCO2_Model = smf.ols(formula=model, data=AtmCO2_Mod)\n",
        "AtmCO2_Mod_results = AtmCO2_Model.fit()\n",
        "\n",
        "\n",
        "print(AtmCO2_Mod_results.summary())"
      ],
      "metadata": {
        "colab": {
          "base_uri": "https://localhost:8080/"
        },
        "outputId": "7c0efe51-96c1-414f-bea0-c614b202a616",
        "id": "2riyhJLjRIzS"
      },
      "execution_count": 33,
      "outputs": [
        {
          "output_type": "stream",
          "name": "stdout",
          "text": [
            "                            OLS Regression Results                            \n",
            "==============================================================================\n",
            "Dep. Variable:               GDP_PEMP   R-squared:                       0.999\n",
            "Model:                            OLS   Adj. R-squared:                  0.999\n",
            "Method:                 Least Squares   F-statistic:                     4695.\n",
            "Date:                Wed, 11 May 2022   Prob (F-statistic):           5.67e-30\n",
            "Time:                        08:38:24   Log-Likelihood:                -208.55\n",
            "No. Observations:                  26   AIC:                             429.1\n",
            "Df Residuals:                      20   BIC:                             436.7\n",
            "Df Model:                           5                                         \n",
            "Covariance Type:            nonrobust                                         \n",
            "========================================================================================\n",
            "                           coef    std err          t      P>|t|      [0.025      0.975]\n",
            "----------------------------------------------------------------------------------------\n",
            "Intercept              1.39e+05   2.74e+05      0.507      0.618   -4.32e+05     7.1e+05\n",
            "AtmCO2               -4.026e+04   8691.385     -4.632      0.000   -5.84e+04   -2.21e+04\n",
            "year                   -18.9332    134.778     -0.140      0.890    -300.076     262.209\n",
            "econ_cat             -4.055e+04   2714.837    -14.935      0.000   -4.62e+04   -3.49e+04\n",
            "pa_clim_acc          -2269.7508    652.456     -3.479      0.002   -3630.751    -908.751\n",
            "econ_cat:pa_clim_acc  1235.8591    979.240      1.262      0.221    -806.799    3278.517\n",
            "==============================================================================\n",
            "Omnibus:                        0.916   Durbin-Watson:                   1.392\n",
            "Prob(Omnibus):                  0.632   Jarque-Bera (JB):                0.243\n",
            "Skew:                          -0.212   Prob(JB):                        0.886\n",
            "Kurtosis:                       3.212   Cond. No.                     3.34e+06\n",
            "==============================================================================\n",
            "\n",
            "Warnings:\n",
            "[1] Standard Errors assume that the covariance matrix of the errors is correctly specified.\n",
            "[2] The condition number is large, 3.34e+06. This might indicate that there are\n",
            "strong multicollinearity or other numerical problems.\n"
          ]
        }
      ]
    },
    {
      "cell_type": "code",
      "source": [
        "print(AtmCO2_Mod_results.summary().as_latex())"
      ],
      "metadata": {
        "colab": {
          "base_uri": "https://localhost:8080/"
        },
        "outputId": "1d7ca10c-efde-4f36-9d85-f12dd5cd95bb",
        "id": "ikCJzvapRIzS"
      },
      "execution_count": 34,
      "outputs": [
        {
          "output_type": "stream",
          "name": "stdout",
          "text": [
            "\\begin{center}\n",
            "\\begin{tabular}{lclc}\n",
            "\\toprule\n",
            "\\textbf{Dep. Variable:}          &    GDP\\_PEMP     & \\textbf{  R-squared:         } &     0.999   \\\\\n",
            "\\textbf{Model:}                  &       OLS        & \\textbf{  Adj. R-squared:    } &     0.999   \\\\\n",
            "\\textbf{Method:}                 &  Least Squares   & \\textbf{  F-statistic:       } &     4695.   \\\\\n",
            "\\textbf{Date:}                   & Wed, 11 May 2022 & \\textbf{  Prob (F-statistic):} &  5.67e-30   \\\\\n",
            "\\textbf{Time:}                   &     08:38:37     & \\textbf{  Log-Likelihood:    } &   -208.55   \\\\\n",
            "\\textbf{No. Observations:}       &          26      & \\textbf{  AIC:               } &     429.1   \\\\\n",
            "\\textbf{Df Residuals:}           &          20      & \\textbf{  BIC:               } &     436.7   \\\\\n",
            "\\textbf{Df Model:}               &           5      & \\textbf{                     } &             \\\\\n",
            "\\bottomrule\n",
            "\\end{tabular}\n",
            "\\begin{tabular}{lcccccc}\n",
            "                                 & \\textbf{coef} & \\textbf{std err} & \\textbf{t} & \\textbf{P$> |$t$|$} & \\textbf{[0.025} & \\textbf{0.975]}  \\\\\n",
            "\\midrule\n",
            "\\textbf{Intercept}               &     1.39e+05  &     2.74e+05     &     0.507  &         0.618        &    -4.32e+05    &      7.1e+05     \\\\\n",
            "\\textbf{AtmCO2}                  &   -4.026e+04  &     8691.385     &    -4.632  &         0.000        &    -5.84e+04    &    -2.21e+04     \\\\\n",
            "\\textbf{year}                    &     -18.9332  &      134.778     &    -0.140  &         0.890        &     -300.076    &      262.209     \\\\\n",
            "\\textbf{econ\\_cat}               &   -4.055e+04  &     2714.837     &   -14.935  &         0.000        &    -4.62e+04    &    -3.49e+04     \\\\\n",
            "\\textbf{pa\\_clim\\_acc}           &   -2269.7508  &      652.456     &    -3.479  &         0.002        &    -3630.751    &     -908.751     \\\\\n",
            "\\textbf{econ\\_cat:pa\\_clim\\_acc} &    1235.8591  &      979.240     &     1.262  &         0.221        &     -806.799    &     3278.517     \\\\\n",
            "\\bottomrule\n",
            "\\end{tabular}\n",
            "\\begin{tabular}{lclc}\n",
            "\\textbf{Omnibus:}       &  0.916 & \\textbf{  Durbin-Watson:     } &    1.392  \\\\\n",
            "\\textbf{Prob(Omnibus):} &  0.632 & \\textbf{  Jarque-Bera (JB):  } &    0.243  \\\\\n",
            "\\textbf{Skew:}          & -0.212 & \\textbf{  Prob(JB):          } &    0.886  \\\\\n",
            "\\textbf{Kurtosis:}      &  3.212 & \\textbf{  Cond. No.          } & 3.34e+06  \\\\\n",
            "\\bottomrule\n",
            "\\end{tabular}\n",
            "%\\caption{OLS Regression Results}\n",
            "\\end{center}\n",
            "\n",
            "Warnings: \\newline\n",
            " [1] Standard Errors assume that the covariance matrix of the errors is correctly specified. \\newline\n",
            " [2] The condition number is large, 3.34e+06. This might indicate that there are \\newline\n",
            " strong multicollinearity or other numerical problems.\n"
          ]
        }
      ]
    },
    {
      "cell_type": "code",
      "source": [
        ""
      ],
      "metadata": {
        "id": "tJveiZxGRSK4"
      },
      "execution_count": null,
      "outputs": []
    }
  ]
}